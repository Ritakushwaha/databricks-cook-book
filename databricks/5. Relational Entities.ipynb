{
 "cells": [
  {
   "cell_type": "markdown",
   "metadata": {
    "application/vnd.databricks.v1+cell": {
     "cellMetadata": {
      "byteLimit": 2048000,
      "rowLimit": 10000
     },
     "inputWidgets": {},
     "nuid": "9f2de1c3-3a52-4be9-9857-0e986be51342",
     "showTitle": false,
     "tableResultSettingsMap": {},
     "title": ""
    }
   },
   "source": [
    "# Databases and Tables in Databricks (Hive Metastore)\n",
    "\n",
    "In Databricks (and Hive), a **database** = a **schema**.  \n",
    "The Hive Metastore (HMS) stores metadata about databases, tables, and partitions.  \n",
    "\n",
    "By default, tables are stored in the Hive Warehouse directory:\n",
    "`/user/hive/warehouse/`\n",
    "\n",
    "If custom schema\n",
    "`/user/hive/warehouse/schema_name.db/`"
   ]
  },
  {
   "cell_type": "markdown",
   "metadata": {
    "application/vnd.databricks.v1+cell": {
     "cellMetadata": {
      "byteLimit": 2048000,
      "rowLimit": 10000
     },
     "inputWidgets": {},
     "nuid": "106cae07-186e-4ee2-9384-a4d60e6b3d18",
     "showTitle": false,
     "tableResultSettingsMap": {},
     "title": ""
    }
   },
   "source": [
    "## Hive Metastore\n",
    "\n",
    "The Hive Metastore (HMS) is a central metadata store for tables, schemas (databases), and partitions.\n",
    "\n",
    "Stores table definitions, schema info, partitioning, and file locations (but not the data itself).\n",
    "\n",
    "Backed by a relational DB (e.g., MySQL, Postgres) + connected to Hive, Spark, Databricks, etc.\n",
    "\n",
    "In Databricks, hive_metastore is the default catalog (if you don’t explicitly specify Unity Catalog)."
   ]
  },
  {
   "cell_type": "code",
   "execution_count": 0,
   "metadata": {
    "application/vnd.databricks.v1+cell": {
     "cellMetadata": {
      "byteLimit": 2048000,
      "rowLimit": 10000
     },
     "inputWidgets": {},
     "nuid": "ab13b380-068e-4e5a-9807-76abc67c29f0",
     "showTitle": false,
     "tableResultSettingsMap": {},
     "title": ""
    }
   },
   "outputs": [],
   "source": [
    "USE CATALOG hive_metastore;"
   ]
  },
  {
   "cell_type": "markdown",
   "metadata": {
    "application/vnd.databricks.v1+cell": {
     "cellMetadata": {
      "byteLimit": 2048000,
      "rowLimit": 10000
     },
     "inputWidgets": {},
     "nuid": "65cb00b0-4125-454c-9988-1f3426d6b939",
     "showTitle": false,
     "tableResultSettingsMap": {},
     "title": ""
    }
   },
   "source": [
    "## Tables\n",
    "\n",
    "Tables can be managed or external:\n",
    "\n",
    "**Managed Table**: Hive (or Databricks) manages both metadata + data. Dropping table deletes data.\n",
    "\n",
    "- Default when you don’t specify a LOCATION.\n",
    "\n",
    "- Data stored under the database’s .db folder.\n",
    "\n",
    "*Effect of DROP table* : \n",
    "- Both metadata (catalog entry) and data files are deleted.\n",
    "- No recovery unless you had a backup (or time travel if it was a Delta table and retention not vacuumed yet).\n",
    "\n",
    "**External Table**: Metadata managed, but data remains at the given LOCATION. \n",
    "\n",
    "*Effect of DROP table*: \n",
    "- Only metadata (catalog entry) is removed.\n",
    "- The data files remain intact at /mnt/external/orders.\n",
    "You can recreate the table pointing to the same location later.\n",
    "\n",
    "### Impact of LOCATION Keyword\n",
    "\n",
    "LOCATION controls where the data files are stored in the filesystem (DBFS, S3, ADLS, etc.).\n",
    "\n",
    "#### Without LOCATION:\n",
    "\n",
    "Table lives inside the database folder (e.g., /user/hive/warehouse/db_name.db/table_name).\n",
    "\n",
    "#### With LOCATION:\n",
    "\n",
    "Table lives outside the default warehouse, wherever specified.\n",
    "\n",
    "Useful for pointing to existing data (e.g., Parquet files, Delta tables)."
   ]
  },
  {
   "cell_type": "markdown",
   "metadata": {
    "application/vnd.databricks.v1+cell": {
     "cellMetadata": {},
     "inputWidgets": {},
     "nuid": "57062363-9eba-4124-a245-693cf71e3def",
     "showTitle": false,
     "tableResultSettingsMap": {},
     "title": ""
    }
   },
   "source": [
    "## Managed vs. External Tables\n",
    "\n",
    "Tables in Databricks can be either **managed** or **external**.\n",
    "\n",
    "| Feature              | Managed Table | External Table |\n",
    "|-----------------------|---------------|----------------|\n",
    "| **Data location**     | Inside Hive warehouse (`db_name.db/table`) | Custom `LOCATION` |\n",
    "| **Who manages data?** | Hive / Databricks | You (user provides location) |\n",
    "| **Drop table effect** | Deletes metadata + data files | Deletes metadata only |\n",
    "| **Use case**          | Full lifecycle inside Hive | Point to existing data / keep data after drop |\n"
   ]
  },
  {
   "cell_type": "markdown",
   "metadata": {
    "application/vnd.databricks.v1+cell": {
     "cellMetadata": {},
     "inputWidgets": {},
     "nuid": "19a7b4ef-9d57-473d-bf74-5e7b6c23594c",
     "showTitle": false,
     "tableResultSettingsMap": {},
     "title": ""
    }
   },
   "source": [
    "## Managed Table Example (Default Schema)\n"
   ]
  },
  {
   "cell_type": "code",
   "execution_count": 0,
   "metadata": {
    "application/vnd.databricks.v1+cell": {
     "cellMetadata": {
      "byteLimit": 2048000,
      "rowLimit": 10000
     },
     "inputWidgets": {},
     "nuid": "61fd7422-de9a-4a6a-8228-9731048b1d8a",
     "showTitle": false,
     "tableResultSettingsMap": {},
     "title": ""
    }
   },
   "outputs": [],
   "source": [
    "-- Create a managed table (default location in hive warehouse)\n",
    "CREATE TABLE managed_default (\n",
    "  width INT, length INT, height INT\n",
    ");\n",
    "\n",
    "INSERT INTO managed_default VALUES (3, 2, 1);"
   ]
  },
  {
   "cell_type": "code",
   "execution_count": 0,
   "metadata": {
    "application/vnd.databricks.v1+cell": {
     "cellMetadata": {
      "byteLimit": 2048000,
      "rowLimit": 10000
     },
     "inputWidgets": {},
     "nuid": "1fe21347-0824-44c6-bfe2-8d5ed8467dc4",
     "showTitle": false,
     "tableResultSettingsMap": {},
     "title": ""
    }
   },
   "outputs": [],
   "source": [
    "-- Inspect table details\n",
    "DESCRIBE EXTENDED managed_default"
   ]
  },
  {
   "cell_type": "code",
   "execution_count": 0,
   "metadata": {
    "application/vnd.databricks.v1+cell": {
     "cellMetadata": {
      "byteLimit": 2048000,
      "rowLimit": 10000
     },
     "inputWidgets": {},
     "nuid": "d75a5421-0557-46c9-a391-d052dfafa729",
     "showTitle": false,
     "tableResultSettingsMap": {},
     "title": ""
    }
   },
   "outputs": [],
   "source": [
    "-- Drop the table\n",
    "DROP TABLE managed_default;"
   ]
  },
  {
   "cell_type": "code",
   "execution_count": 0,
   "metadata": {
    "application/vnd.databricks.v1+cell": {
     "cellMetadata": {
      "byteLimit": 2048000,
      "rowLimit": 10000
     },
     "inputWidgets": {},
     "nuid": "2aa3df2a-0841-42a9-b134-eb96d44841e6",
     "showTitle": false,
     "tableResultSettingsMap": {},
     "title": ""
    }
   },
   "outputs": [],
   "source": [
    "-- Data and metadata are both deleted\n",
    "%fs ls 'dbfs:/user/hive/warehouse/managed_default'"
   ]
  },
  {
   "cell_type": "markdown",
   "metadata": {
    "application/vnd.databricks.v1+cell": {
     "cellMetadata": {},
     "inputWidgets": {},
     "nuid": "af8faa31-d760-4cd7-b09f-df92e3a1d7c2",
     "showTitle": false,
     "tableResultSettingsMap": {},
     "title": ""
    }
   },
   "source": [
    "## External Table Example (Default Schema)"
   ]
  },
  {
   "cell_type": "code",
   "execution_count": 0,
   "metadata": {
    "application/vnd.databricks.v1+cell": {
     "cellMetadata": {
      "byteLimit": 2048000,
      "rowLimit": 10000
     },
     "inputWidgets": {},
     "nuid": "0920d9e5-9e76-4fea-ae5e-79c4e1a82385",
     "showTitle": false,
     "tableResultSettingsMap": {},
     "title": ""
    }
   },
   "outputs": [],
   "source": [
    "-- Create an external table (custom LOCATION)\n",
    "CREATE TABLE external_default\n",
    " (width int, length int, height int)\n",
    "USING DELTA\n",
    "LOCATION 'dbfs:/mnt/demo/external/default';\n",
    "\n",
    "INSERT INTO external_default \n",
    "VALUES (3, 2, 1);"
   ]
  },
  {
   "cell_type": "code",
   "execution_count": 0,
   "metadata": {
    "application/vnd.databricks.v1+cell": {
     "cellMetadata": {
      "byteLimit": 2048000,
      "rowLimit": 10000
     },
     "inputWidgets": {},
     "nuid": "797db539-b634-441d-8c08-4bc9f4b1ca01",
     "showTitle": false,
     "tableResultSettingsMap": {},
     "title": ""
    }
   },
   "outputs": [],
   "source": [
    "-- Inspect table details\n",
    "DESCRIBE EXTENDED external_default;"
   ]
  },
  {
   "cell_type": "code",
   "execution_count": 0,
   "metadata": {
    "application/vnd.databricks.v1+cell": {
     "cellMetadata": {
      "byteLimit": 2048000,
      "rowLimit": 10000
     },
     "inputWidgets": {},
     "nuid": "094720c6-38c6-4d49-9b85-b2fd934ff7c2",
     "showTitle": false,
     "tableResultSettingsMap": {},
     "title": ""
    }
   },
   "outputs": [],
   "source": [
    "-- Drop the table\n",
    "DROP TABLE external_default;"
   ]
  },
  {
   "cell_type": "code",
   "execution_count": 0,
   "metadata": {
    "application/vnd.databricks.v1+cell": {
     "cellMetadata": {
      "byteLimit": 2048000,
      "rowLimit": 10000
     },
     "inputWidgets": {},
     "nuid": "c9a8a732-9271-4518-a1d9-9c9183aa7124",
     "showTitle": false,
     "tableResultSettingsMap": {},
     "title": ""
    }
   },
   "outputs": [],
   "source": [
    "%fs ls 'dbfs:/mnt/demo/external/default'"
   ]
  },
  {
   "cell_type": "markdown",
   "metadata": {
    "application/vnd.databricks.v1+cell": {
     "cellMetadata": {},
     "inputWidgets": {},
     "nuid": "a1244d55-0d96-4c20-aaec-6e9c5bbe7258",
     "showTitle": false,
     "tableResultSettingsMap": {},
     "title": ""
    }
   },
   "source": [
    "## Databases (Schemas)\n",
    "\n",
    "A database is a **logical container** for tables.  \n",
    "It always corresponds to a **.db** directory under the warehouse (unless you override LOCATION).\n"
   ]
  },
  {
   "cell_type": "code",
   "execution_count": 0,
   "metadata": {
    "application/vnd.databricks.v1+cell": {
     "cellMetadata": {
      "byteLimit": 2048000,
      "rowLimit": 10000
     },
     "inputWidgets": {},
     "nuid": "c1a54a1c-4751-48bd-9404-2ef19968dfaf",
     "showTitle": false,
     "tableResultSettingsMap": {},
     "title": ""
    }
   },
   "outputs": [],
   "source": [
    "-- Drop schema if exists (including tables)\n",
    "DROP SCHEMA new_schema CASCADE;\n",
    "\n",
    "-- Create a database with default location (inside hive warehouse)\n",
    "CREATE DATABASE IF NOT EXISTS new_schema;\n",
    "\n",
    "-- Equivalent syntax (schema)\n",
    "CREATE SCHEMA IF NOT EXISTS new_schema;\n",
    "\n",
    "-- Show all databases\n",
    "SHOW DATABASES;"
   ]
  },
  {
   "cell_type": "code",
   "execution_count": 0,
   "metadata": {
    "application/vnd.databricks.v1+cell": {
     "cellMetadata": {
      "byteLimit": 2048000,
      "rowLimit": 10000
     },
     "inputWidgets": {},
     "nuid": "4ca6645e-b83f-4943-94ca-5b1b5a82db3a",
     "showTitle": false,
     "tableResultSettingsMap": {},
     "title": ""
    }
   },
   "outputs": [],
   "source": [
    "-- Inspect schema metadata\n",
    "DESCRIBE DATABASE EXTENDED new_schema"
   ]
  },
  {
   "cell_type": "code",
   "execution_count": 0,
   "metadata": {
    "application/vnd.databricks.v1+cell": {
     "cellMetadata": {
      "byteLimit": 2048000,
      "rowLimit": 10000
     },
     "inputWidgets": {},
     "nuid": "730640c6-f24f-46fb-a6ee-8e164f1be410",
     "showTitle": false,
     "tableResultSettingsMap": {},
     "title": ""
    }
   },
   "outputs": [],
   "source": [
    "-- Switch to the new schema\n",
    "USE new_schema;"
   ]
  },
  {
   "cell_type": "markdown",
   "metadata": {
    "application/vnd.databricks.v1+cell": {
     "cellMetadata": {},
     "inputWidgets": {},
     "nuid": "0dbd1a30-3aef-42e4-9817-64b2bacef302",
     "showTitle": false,
     "tableResultSettingsMap": {},
     "title": ""
    }
   },
   "source": [
    "### Managed vs External Tables inside a Schema"
   ]
  },
  {
   "cell_type": "code",
   "execution_count": 0,
   "metadata": {
    "application/vnd.databricks.v1+cell": {
     "cellMetadata": {},
     "inputWidgets": {},
     "nuid": "a22821e2-924e-45a5-b6c1-b5fb3049497e",
     "showTitle": false,
     "tableResultSettingsMap": {},
     "title": ""
    }
   },
   "outputs": [],
   "source": [
    "-- Managed table inside new schema\n",
    "CREATE TABLE managed_default (\n",
    "  width INT, length INT, height INT\n",
    ");\n",
    "INSERT INTO managed_default VALUES (3, 2, 1);\n",
    "\n",
    "-- External table inside new schema\n",
    "CREATE TABLE external_default (\n",
    "  width INT, length INT, height INT\n",
    ")\n",
    "LOCATION 'dbfs:/mnt/demo/external/default';\n",
    "INSERT INTO external_default VALUES (3, 2, 1);"
   ]
  },
  {
   "cell_type": "code",
   "execution_count": 0,
   "metadata": {
    "application/vnd.databricks.v1+cell": {
     "cellMetadata": {
      "byteLimit": 2048000,
      "rowLimit": 10000
     },
     "inputWidgets": {},
     "nuid": "35e4e262-585f-4914-9052-030cc2a745c0",
     "showTitle": false,
     "tableResultSettingsMap": {},
     "title": ""
    }
   },
   "outputs": [],
   "source": [
    "-- Inspect metadata\n",
    "DESCRIBE EXTENDED new_schema.managed_default;"
   ]
  },
  {
   "cell_type": "code",
   "execution_count": 0,
   "metadata": {
    "application/vnd.databricks.v1+cell": {
     "cellMetadata": {
      "byteLimit": 2048000,
      "rowLimit": 10000
     },
     "inputWidgets": {},
     "nuid": "22075d5a-d871-4a27-a602-7ab8c9c69cef",
     "showTitle": false,
     "tableResultSettingsMap": {},
     "title": ""
    }
   },
   "outputs": [],
   "source": [
    "-- Inspect metadata\n",
    "DESCRIBE EXTENDED new_schema.external_default;"
   ]
  },
  {
   "cell_type": "code",
   "execution_count": 0,
   "metadata": {
    "application/vnd.databricks.v1+cell": {
     "cellMetadata": {
      "byteLimit": 2048000,
      "rowLimit": 10000
     },
     "inputWidgets": {},
     "nuid": "28dcf76a-0d0b-43e1-b08b-a7b250ed48b9",
     "showTitle": false,
     "tableResultSettingsMap": {},
     "title": ""
    }
   },
   "outputs": [],
   "source": [
    "-- Drop tables\n",
    "DROP TABLE new_schema.managed_default;\n",
    "DROP TABLE new_schema.external_default;"
   ]
  },
  {
   "cell_type": "code",
   "execution_count": 0,
   "metadata": {
    "application/vnd.databricks.v1+cell": {
     "cellMetadata": {
      "byteLimit": 2048000,
      "rowLimit": 10000
     },
     "inputWidgets": {},
     "nuid": "bce78bb6-81a4-4bbb-99f3-6ed9d45570b7",
     "showTitle": false,
     "tableResultSettingsMap": {},
     "title": ""
    }
   },
   "outputs": [],
   "source": [
    "%fs ls 'dbfs:/user/hive/warehouse/new_schema.db/managed_default'"
   ]
  },
  {
   "cell_type": "code",
   "execution_count": 0,
   "metadata": {
    "application/vnd.databricks.v1+cell": {
     "cellMetadata": {
      "byteLimit": 2048000,
      "rowLimit": 10000
     },
     "inputWidgets": {},
     "nuid": "83865951-5c03-4172-a343-b0b78caa7d69",
     "showTitle": false,
     "tableResultSettingsMap": {},
     "title": ""
    }
   },
   "outputs": [],
   "source": [
    "%fs ls 'dbfs:/mnt/demo/external/default/'"
   ]
  },
  {
   "cell_type": "markdown",
   "metadata": {
    "application/vnd.databricks.v1+cell": {
     "cellMetadata": {},
     "inputWidgets": {},
     "nuid": "42a6e9c5-ab7b-44ab-b477-e702846196f2",
     "showTitle": false,
     "tableResultSettingsMap": {},
     "title": ""
    }
   },
   "source": [
    "## Database with Custom Location"
   ]
  },
  {
   "cell_type": "code",
   "execution_count": 0,
   "metadata": {
    "application/vnd.databricks.v1+cell": {
     "cellMetadata": {
      "byteLimit": 2048000,
      "rowLimit": 10000
     },
     "inputWidgets": {},
     "nuid": "af3b37c7-da69-4dc9-b41f-687c548749c0",
     "showTitle": false,
     "tableResultSettingsMap": {},
     "title": ""
    }
   },
   "outputs": [],
   "source": [
    "-- Create schema with a custom location\n",
    "CREATE SCHEMA custom\n",
    "LOCATION 'dbfs:/Shared/schemas/custom.db'"
   ]
  },
  {
   "cell_type": "code",
   "execution_count": 0,
   "metadata": {
    "application/vnd.databricks.v1+cell": {
     "cellMetadata": {
      "byteLimit": 2048000,
      "rowLimit": 10000
     },
     "inputWidgets": {},
     "nuid": "dd4273a2-f8ce-498e-8b2a-2b6baefe3eed",
     "showTitle": false,
     "tableResultSettingsMap": {},
     "title": ""
    }
   },
   "outputs": [],
   "source": [
    "DESCRIBE DATABASE EXTENDED custom"
   ]
  },
  {
   "cell_type": "code",
   "execution_count": 0,
   "metadata": {
    "application/vnd.databricks.v1+cell": {
     "cellMetadata": {
      "byteLimit": 2048000,
      "rowLimit": 10000
     },
     "inputWidgets": {},
     "nuid": "5e7605ac-5a6d-409d-b873-93c326735955",
     "showTitle": false,
     "tableResultSettingsMap": {},
     "title": ""
    }
   },
   "outputs": [],
   "source": [
    "USE custom;\n",
    "\n",
    "-- Managed table (stored inside custom.db path)\n",
    "CREATE TABLE managed_custom\n",
    " (width int, length int, height int);\n",
    "\n",
    "INSERT INTO managed_custom VALUES (3, 2, 1);\n",
    "\n",
    "-- External table (independent LOCATION)\n",
    "CREATE TABLE external_custom\n",
    " (width int, length int, height int)\n",
    " LOCATION 'dbfs:/mnt/demo/external_custom';\n",
    "\n",
    "INSERT INTO external_custom VALUES (3, 2, 1);"
   ]
  },
  {
   "cell_type": "code",
   "execution_count": 0,
   "metadata": {
    "application/vnd.databricks.v1+cell": {
     "cellMetadata": {
      "byteLimit": 2048000,
      "rowLimit": 10000
     },
     "inputWidgets": {},
     "nuid": "5fb41718-8d8f-438e-915f-6b3ec386bea1",
     "showTitle": false,
     "tableResultSettingsMap": {},
     "title": ""
    }
   },
   "outputs": [],
   "source": [
    "DESCRIBE EXTENDED managed_custom"
   ]
  },
  {
   "cell_type": "code",
   "execution_count": 0,
   "metadata": {
    "application/vnd.databricks.v1+cell": {
     "cellMetadata": {
      "byteLimit": 2048000,
      "rowLimit": 10000
     },
     "inputWidgets": {},
     "nuid": "0d2a013c-ae7a-42a7-8926-33c7466bf15d",
     "showTitle": false,
     "tableResultSettingsMap": {},
     "title": ""
    }
   },
   "outputs": [],
   "source": [
    "DESCRIBE EXTENDED external_custom"
   ]
  },
  {
   "cell_type": "code",
   "execution_count": 0,
   "metadata": {
    "application/vnd.databricks.v1+cell": {
     "cellMetadata": {
      "byteLimit": 2048000,
      "rowLimit": 10000
     },
     "inputWidgets": {},
     "nuid": "eff7a51b-598e-439b-adbe-1dbe28cbc69a",
     "showTitle": false,
     "tableResultSettingsMap": {},
     "title": ""
    }
   },
   "outputs": [],
   "source": [
    "DROP TABLE managed_custom;\n",
    "DROP TABLE external_custom;"
   ]
  },
  {
   "cell_type": "code",
   "execution_count": 0,
   "metadata": {
    "application/vnd.databricks.v1+cell": {
     "cellMetadata": {
      "byteLimit": 2048000,
      "rowLimit": 10000
     },
     "inputWidgets": {},
     "nuid": "2aef24df-c899-4824-96e5-46c3f508c760",
     "showTitle": false,
     "tableResultSettingsMap": {},
     "title": ""
    }
   },
   "outputs": [],
   "source": [
    "%fs ls 'dbfs:/Shared/schemas/custom.db/managed_custom'"
   ]
  },
  {
   "cell_type": "code",
   "execution_count": 0,
   "metadata": {
    "application/vnd.databricks.v1+cell": {
     "cellMetadata": {
      "byteLimit": 2048000,
      "rowLimit": 10000
     },
     "inputWidgets": {},
     "nuid": "a6e64cee-8254-4bb0-9515-5fb224748c04",
     "showTitle": false,
     "tableResultSettingsMap": {},
     "title": ""
    }
   },
   "outputs": [],
   "source": [
    "%fs ls 'dbfs:/mnt/demo/external_custom'"
   ]
  },
  {
   "cell_type": "markdown",
   "metadata": {
    "application/vnd.databricks.v1+cell": {
     "cellMetadata": {
      "byteLimit": 2048000,
      "rowLimit": 10000
     },
     "inputWidgets": {},
     "nuid": "93959e0e-a68a-40a7-b690-fe4b59f88754",
     "showTitle": false,
     "tableResultSettingsMap": {},
     "title": ""
    }
   },
   "source": [
    "## Summary\n",
    "\n",
    "**Hive Metastore** = metadata store, default catalog is hive_metastore.\n",
    "\n",
    "**Databases/Schemas** = logical containers → .db directories.\n",
    "\n",
    "**Tables** = *managed* (lives inside Databricks) vs. *external* (custom LOCATION).\n",
    "\n",
    "**LOCATION** keyword decides whether data sits in default warehouse vs. custom/external path."
   ]
  }
 ],
 "metadata": {
  "application/vnd.databricks.v1+notebook": {
   "computePreferences": null,
   "dashboards": [],
   "environmentMetadata": {
    "base_environment": "",
    "environment_version": "3"
   },
   "inputWidgetPreferences": null,
   "language": "sql",
   "notebookMetadata": {
    "mostRecentlyExecutedCommandWithImplicitDF": {
     "commandId": 6695248790029018,
     "dataframes": [
      "_sqldf"
     ]
    },
    "pythonIndentUnit": 4
   },
   "notebookName": "5. Relational Entities",
   "widgets": {}
  },
  "language_info": {
   "name": "sql"
  }
 },
 "nbformat": 4,
 "nbformat_minor": 0
}
