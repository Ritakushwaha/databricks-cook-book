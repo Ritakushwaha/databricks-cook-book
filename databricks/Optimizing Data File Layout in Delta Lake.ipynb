{
 "cells": [
  {
   "cell_type": "markdown",
   "metadata": {
    "application/vnd.databricks.v1+cell": {
     "cellMetadata": {},
     "inputWidgets": {},
     "nuid": "85b8721c-f747-4676-aa09-e2cbb57e00a2",
     "showTitle": false,
     "tableResultSettingsMap": {},
     "title": ""
    }
   },
   "source": [
    "# Optimizing Data File Layout in Delta Lake\n",
    "\n",
    "\n",
    "## Introduction\n",
    "Delta Lake performance heavily depends on **how data files are organized and stored**.\n",
    "Techniques:\n",
    "- **Partitioning** – physical split by low-cardinality column\n",
    "- **Z-Ordering (Multi-dimensional Clustering)** – groups similar data into optimized files\n",
    "- **Liquid Clustering** – modern replacement for Z-Ordering, incremental & flexible"
   ]
  },
  {
   "cell_type": "markdown",
   "metadata": {
    "application/vnd.databricks.v1+cell": {
     "cellMetadata": {},
     "inputWidgets": {},
     "nuid": "566bdf38-1e80-4510-bf76-c77edb5bc210",
     "showTitle": false,
     "tableResultSettingsMap": {},
     "title": ""
    }
   },
   "source": [
    "## Partitioning\n",
    "Best for **low-cardinality columns** (like `year`, `month`, `region`).\n",
    "Avoid high-cardinality partitioning (like `user_id`) – leads to too many small files.\n",
    "\n",
    "Issue: **Changing partitions** requires a **full rewrite** of the table (costly for large data)."
   ]
  },
  {
   "cell_type": "code",
   "execution_count": 0,
   "metadata": {
    "application/vnd.databricks.v1+cell": {
     "cellMetadata": {
      "byteLimit": 2048000,
      "rowLimit": 10000
     },
     "inputWidgets": {},
     "nuid": "dbc0f2b9-0fb2-4aab-baa4-342c0b4a88ce",
     "showTitle": false,
     "tableResultSettingsMap": {},
     "title": ""
    }
   },
   "outputs": [],
   "source": [
    "CREATE OR REPLACE TABLE sales_partitioned (\n",
    "id INT,\n",
    "product STRING,\n",
    "amount DOUBLE,\n",
    "year INT,\n",
    "month INT\n",
    ")\n",
    "USING DELTA\n",
    "PARTITIONED BY (year); -- low cardinality column\n",
    "\n",
    "\n",
    "INSERT INTO sales_partitioned VALUES\n",
    "(1, 'Laptop', 1200.50, 2023, 1),\n",
    "(2, 'Tablet', 450.00, 2024, 2),\n",
    "(3, 'Phone', 800.25, 2024, 5);\n",
    "\n",
    "\n",
    "-- Query will only scan data from partition year = 2024\n",
    "SELECT * FROM sales_partitioned WHERE year = 2024;"
   ]
  },
  {
   "cell_type": "code",
   "execution_count": 0,
   "metadata": {
    "application/vnd.databricks.v1+cell": {
     "cellMetadata": {
      "byteLimit": 2048000,
      "rowLimit": 10000
     },
     "inputWidgets": {},
     "nuid": "7f751056-2d2e-44e9-9109-7717d6b5e070",
     "showTitle": false,
     "tableResultSettingsMap": {},
     "title": ""
    }
   },
   "outputs": [],
   "source": [
    "%sql\n",
    "-- Performance comparison: Show query execution plan\n",
    "EXPLAIN SELECT * FROM sales_partitioned WHERE year = 2024;"
   ]
  },
  {
   "cell_type": "markdown",
   "metadata": {
    "application/vnd.databricks.v1+cell": {
     "cellMetadata": {},
     "inputWidgets": {},
     "nuid": "263bd4e3-8420-4d3a-bf7a-3cf30c5d3ae9",
     "showTitle": false,
     "tableResultSettingsMap": {},
     "title": ""
    }
   },
   "source": [
    "## Z-Ordering (Indexing-like)\n",
    "- Organizes data within files instead of creating directories\n",
    "- Useful for **high-cardinality columns** (like `customer_id`, `zipcode`)\n",
    "- Not incremental → must rerun `OPTIMIZE` regularly"
   ]
  },
  {
   "cell_type": "code",
   "execution_count": 0,
   "metadata": {
    "application/vnd.databricks.v1+cell": {
     "cellMetadata": {
      "byteLimit": 2048000,
      "rowLimit": 10000
     },
     "inputWidgets": {},
     "nuid": "6dad50a6-67a8-4048-824e-e320e00dd2e2",
     "showTitle": false,
     "tableResultSettingsMap": {},
     "title": ""
    }
   },
   "outputs": [],
   "source": [
    "%sql\n",
    "-- Create table without partitions\n",
    "CREATE OR REPLACE TABLE sales_zorder (\n",
    "id INT,\n",
    "product STRING,\n",
    "amount DOUBLE,\n",
    "customer_id STRING\n",
    ") USING DELTA;\n",
    "\n",
    "\n",
    "-- Insert some sample rows\n",
    "INSERT INTO sales_zorder VALUES\n",
    "(1, 'Laptop', 1200.50, 'CUST1001'),\n",
    "(2, 'Tablet', 450.00, 'CUST1002'),\n",
    "(3, 'Phone', 800.25, 'CUST2001'),\n",
    "(4, 'TV', 1500.00, 'CUST2002');\n",
    "\n",
    "\n",
    "-- Z-Order by customer_id to cluster data files efficiently\n",
    "OPTIMIZE sales_zorder\n",
    "ZORDER BY (customer_id);\n",
    "-- Now queries like `WHERE customer_id = 'CUST2001'` will scan fewer files."
   ]
  },
  {
   "cell_type": "code",
   "execution_count": 0,
   "metadata": {
    "application/vnd.databricks.v1+cell": {
     "cellMetadata": {
      "byteLimit": 2048000,
      "rowLimit": 10000
     },
     "inputWidgets": {},
     "nuid": "35f13486-bab4-4479-b3e6-99cac5ef21a0",
     "showTitle": false,
     "tableResultSettingsMap": {},
     "title": ""
    }
   },
   "outputs": [],
   "source": [
    "-- Performance comparison before/after Z-Ordering\n",
    "EXPLAIN SELECT * FROM sales_zorder WHERE customer_id = 'CUST2001';"
   ]
  },
  {
   "cell_type": "markdown",
   "metadata": {
    "application/vnd.databricks.v1+cell": {
     "cellMetadata": {},
     "inputWidgets": {},
     "nuid": "a6b2ef0b-44e9-417d-9eaf-3cdc007153da",
     "showTitle": false,
     "tableResultSettingsMap": {},
     "title": ""
    }
   },
   "source": [
    "## Liquid Clustering\n",
    "- Next-gen replacement for Z-Ordering\n",
    "- Works at **table level**\n",
    "- Supports **incremental clustering** with `OPTIMIZE`\n",
    "- You can **change clustering keys** without rewriting data\n",
    "- Not compatible with Partitioning or Z-Ordering"
   ]
  },
  {
   "cell_type": "code",
   "execution_count": 0,
   "metadata": {
    "application/vnd.databricks.v1+cell": {
     "cellMetadata": {
      "byteLimit": 2048000,
      "rowLimit": 10000
     },
     "inputWidgets": {},
     "nuid": "28bbd880-14fe-4458-ace1-3067e82da162",
     "showTitle": false,
     "tableResultSettingsMap": {},
     "title": ""
    }
   },
   "outputs": [],
   "source": [
    "%sql\n",
    "-- Create a table with liquid clustering\n",
    "CREATE OR REPLACE TABLE sales_liquid (\n",
    "id INT,\n",
    "product STRING,\n",
    "amount DOUBLE,\n",
    "region STRING,\n",
    "customer_id STRING\n",
    ")\n",
    "USING DELTA\n",
    "CLUSTER BY (region, customer_id);\n",
    "\n",
    "\n",
    "-- Insert rows\n",
    "INSERT INTO sales_liquid VALUES\n",
    "(1, 'Laptop', 1200.50, 'US', 'CUST1001'),\n",
    "(2, 'Tablet', 450.00, 'EU', 'CUST1002'),\n",
    "(3, 'Phone', 800.25, 'APAC', 'CUST2001'),\n",
    "(4, 'TV', 1500.00, 'US', 'CUST2002');\n",
    "\n",
    "\n",
    "-- Incremental clustering\n",
    "OPTIMIZE sales_liquid;"
   ]
  },
  {
   "cell_type": "code",
   "execution_count": 0,
   "metadata": {
    "application/vnd.databricks.v1+cell": {
     "cellMetadata": {
      "byteLimit": 2048000,
      "rowLimit": 10000
     },
     "inputWidgets": {},
     "nuid": "f08389ec-c4ca-4627-9489-773592aae07b",
     "showTitle": false,
     "tableResultSettingsMap": {},
     "title": ""
    }
   },
   "outputs": [],
   "source": [
    "-- Performance comparison query\n",
    "EXPLAIN SELECT * FROM sales_liquid WHERE region = 'US' AND customer_id = 'CUST2002';"
   ]
  },
  {
   "cell_type": "markdown",
   "metadata": {
    "application/vnd.databricks.v1+cell": {
     "cellMetadata": {},
     "inputWidgets": {},
     "nuid": "3fc1c561-68fc-47ac-be2d-26408c7763d7",
     "showTitle": false,
     "tableResultSettingsMap": {},
     "title": ""
    }
   },
   "source": [
    "### Auto Liquid Clustering\n",
    "Databricks can automatically decide clustering keys (Unity Catalog only)"
   ]
  },
  {
   "cell_type": "code",
   "execution_count": 0,
   "metadata": {
    "application/vnd.databricks.v1+cell": {
     "cellMetadata": {
      "byteLimit": 2048000,
      "rowLimit": 10000
     },
     "inputWidgets": {},
     "nuid": "d8b5055b-96c6-4b77-a346-2ba1d87b6852",
     "showTitle": false,
     "tableResultSettingsMap": {},
     "title": ""
    }
   },
   "outputs": [],
   "source": [
    "%sql\n",
    "SELECT current_catalog();\n",
    "\n",
    "-- Switch to a UC catalog\n",
    "USE CATALOG azure_databricks_ws;\n",
    "USE SCHEMA default;"
   ]
  },
  {
   "cell_type": "code",
   "execution_count": 0,
   "metadata": {
    "application/vnd.databricks.v1+cell": {
     "cellMetadata": {
      "byteLimit": 2048000,
      "rowLimit": 10000
     },
     "inputWidgets": {},
     "nuid": "4d26338a-10ca-423b-be32-fa3f31086f8b",
     "showTitle": false,
     "tableResultSettingsMap": {},
     "title": ""
    }
   },
   "outputs": [],
   "source": [
    "CREATE OR REPLACE TABLE azure_databricks_ws.default.sales_auto (\n",
    "id INT,\n",
    "product STRING,\n",
    "amount DOUBLE,\n",
    "customer_id STRING,\n",
    "region STRING\n",
    ")\n",
    "USING DELTA\n",
    "CLUSTER BY AUTO;\n",
    "\n",
    "-- Or update an existing table\n",
    "ALTER TABLE azure_databricks_ws.default.sales_auto CLUSTER BY AUTO;\n",
    "\n",
    "DESCRIBE EXTENDED azure_databricks_ws.default.sales_auto; "
   ]
  },
  {
   "cell_type": "code",
   "execution_count": 0,
   "metadata": {
    "application/vnd.databricks.v1+cell": {
     "cellMetadata": {
      "byteLimit": 2048000,
      "rowLimit": 10000
     },
     "inputWidgets": {},
     "nuid": "dcaaa905-4db4-4662-9fdd-e928276df581",
     "showTitle": false,
     "tableResultSettingsMap": {},
     "title": ""
    }
   },
   "outputs": [],
   "source": [
    "-- Performance comparison with auto clustering\n",
    "EXPLAIN SELECT * FROM sales_auto WHERE customer_id = 'CUST1001';"
   ]
  },
  {
   "cell_type": "markdown",
   "metadata": {
    "application/vnd.databricks.v1+cell": {
     "cellMetadata": {},
     "inputWidgets": {},
     "nuid": "fed8ed1e-572e-44e2-91c6-3071a6105b91",
     "showTitle": false,
     "tableResultSettingsMap": {},
     "title": ""
    }
   },
   "source": [
    "## Summary\n",
    "- **Partitioning** – Best for low-cardinality, but costly to change\n",
    "- **Z-Ordering** – Good for high-cardinality, not incremental\n",
    "- **Liquid Clustering** – Flexible, incremental, modern replacement for Z-Ordering"
   ]
  }
 ],
 "metadata": {
  "application/vnd.databricks.v1+notebook": {
   "computePreferences": null,
   "dashboards": [],
   "environmentMetadata": {
    "base_environment": "",
    "environment_version": "3"
   },
   "inputWidgetPreferences": null,
   "language": "sql",
   "notebookMetadata": {},
   "notebookName": "Optimizing Data File Layout in Delta Lake",
   "widgets": {}
  },
  "language_info": {
   "name": "sql"
  }
 },
 "nbformat": 4,
 "nbformat_minor": 0
}
