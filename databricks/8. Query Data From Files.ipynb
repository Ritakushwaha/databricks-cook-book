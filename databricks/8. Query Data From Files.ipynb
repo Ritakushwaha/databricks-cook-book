{
 "cells": [
  {
   "cell_type": "markdown",
   "metadata": {
    "application/vnd.databricks.v1+cell": {
     "cellMetadata": {
      "byteLimit": 2048000,
      "rowLimit": 10000
     },
     "inputWidgets": {},
     "nuid": "08c9bb81-c095-41e8-99a9-5a0d523b4d75",
     "showTitle": false,
     "tableResultSettingsMap": {},
     "title": ""
    }
   },
   "source": [
    "# Querying Files & Creating Tables (From Raw Files to Delta Lake)\n",
    "## 1. Introduction\n",
    "\n",
    "This notebook will guide you through:\n",
    "- Querying raw files directly\n",
    "- Registering external tables on data sources\n",
    "- Creating Delta tables using CTAS\n",
    "- Using the new `read_files()` function\n",
    "- Understanding limitations of external vs Delta tables\n",
    "- Hands-on exercises\n",
    "\n",
    "We’ll work with sample bookstore data:\n",
    "- Customers (JSON)\n",
    "- Books (CSV)"
   ]
  },
  {
   "cell_type": "code",
   "execution_count": 0,
   "metadata": {
    "application/vnd.databricks.v1+cell": {
     "cellMetadata": {
      "byteLimit": 2048000,
      "rowLimit": 10000
     },
     "inputWidgets": {},
     "nuid": "467c3d76-558a-41f9-852b-03697c15c2bf",
     "showTitle": false,
     "tableResultSettingsMap": {},
     "title": ""
    }
   },
   "outputs": [],
   "source": [
    "%python\n",
    "import os\n",
    "import json\n",
    "\n",
    "# Customer JSON file contents\n",
    "customer_files = {\n",
    "    \"export_001.json\": [\n",
    "        {\"id\": 1, \"name\": \"Alice\", \"email\": \"alice@example.com\"},\n",
    "        {\"id\": 2, \"name\": \"Bob\", \"email\": \"bob@example.com\"}\n",
    "    ],\n",
    "    \"export_002.json\": [\n",
    "        {\"id\": 3, \"name\": \"Charlie\", \"email\": \"charlie@example.com\"},\n",
    "        {\"id\": 4, \"name\": \"Diana\", \"email\": \"diana@example.com\"}\n",
    "    ],\n",
    "    \"export_003.json\": [\n",
    "        {\"id\": 5, \"name\": \"Eve\", \"email\": \"eve@example.com\"},\n",
    "        {\"id\": 6, \"name\": \"Frank\", \"email\": \"frank@example.com\"}\n",
    "    ],\n",
    "    \"export_004.json\": [\n",
    "        {\"id\": 7, \"name\": \"Grace\", \"email\": \"grace@example.com\"},\n",
    "        {\"id\": 8, \"name\": \"Henry\", \"email\": \"henry@example.com\"}\n",
    "    ],\n",
    "    \"export_005.json\": [\n",
    "        {\"id\": 9, \"name\": \"Ivy\", \"email\": \"ivy@example.com\"},\n",
    "        {\"id\": 10, \"name\": \"Jack\", \"email\": \"jack@example.com\"}\n",
    "    ]\n",
    "}\n",
    "\n",
    "# Book CSV file contents\n",
    "book_files = {\n",
    "    \"export_001.csv\": \"id,title,author\\n1,Book A,Author X\\n2,Book B,Author Y\",\n",
    "    \"export_002.csv\": \"id,title,author\\n3,Book C,Author Z\\n4,Book D,Author W\",\n",
    "    \"export_003.csv\": \"id,title,author\\n5,Book E,Author Q\\n6,Book F,Author P\",\n",
    "    \"export_004.csv\": \"id,title,author\\n7,Book G,Author L\\n8,Book H,Author M\"\n",
    "}\n",
    "\n",
    "# Folder in DBFS where files will be saved\n",
    "base_path_customers = \"/dbfs/mnt/tutorial/customers-json/\"\n",
    "base_path_books = \"/dbfs/mnt/tutorial/books-csv/\"\n",
    "\n",
    "# Create directories\n",
    "os.makedirs(base_path_customers, exist_ok=True)\n",
    "os.makedirs(base_path_books, exist_ok=True)\n",
    "\n",
    "# Write customer JSON files\n",
    "for filename, content in customer_files.items():\n",
    "    with open(os.path.join(base_path_customers, filename), \"w\") as f:\n",
    "        for record in content:\n",
    "            f.write(json.dumps(record) + \"\\n\")\n",
    "\n",
    "# Write book CSV files\n",
    "for filename, content in book_files.items():\n",
    "    with open(os.path.join(base_path_books, filename), \"w\") as f:\n",
    "        f.write(content)\n",
    "\n",
    "print(\"Customer JSON + Book CSV files uploaded to /mnt/tutorial/\")"
   ]
  },
  {
   "cell_type": "code",
   "execution_count": 0,
   "metadata": {
    "application/vnd.databricks.v1+cell": {
     "cellMetadata": {
      "byteLimit": 2048000,
      "rowLimit": 10000
     },
     "inputWidgets": {},
     "nuid": "e7b18042-d5b3-44d0-b439-1fcb3a691daf",
     "showTitle": false,
     "tableResultSettingsMap": {},
     "title": ""
    }
   },
   "outputs": [],
   "source": [
    "%python\n",
    "display(dbutils.fs.ls(\"/mnt/tutorial/customers-json/\"))\n",
    "display(dbutils.fs.ls(\"/mnt/tutorial/books-csv/\"))"
   ]
  },
  {
   "cell_type": "markdown",
   "metadata": {
    "application/vnd.databricks.v1+cell": {
     "cellMetadata": {
      "byteLimit": 2048000,
      "rowLimit": 10000
     },
     "inputWidgets": {},
     "nuid": "67e1606f-779d-42c3-a327-185521036358",
     "showTitle": false,
     "tableResultSettingsMap": {},
     "title": ""
    }
   },
   "source": [
    "## 2. Querying Data Files Directly\n",
    "\n",
    "Databricks allows you to query files directly with SQL without creating a table.\n",
    "\n",
    "### 2.1 Self-describing formats\n",
    "\n",
    "Self-describing formats (e.g., JSON, Parquet, Avro) contain schema information."
   ]
  },
  {
   "cell_type": "code",
   "execution_count": 0,
   "metadata": {
    "application/vnd.databricks.v1+cell": {
     "cellMetadata": {
      "byteLimit": 2048000,
      "rowLimit": 10000
     },
     "inputWidgets": {},
     "nuid": "b72d237a-0e5b-4a15-9f3a-0bd0fbdf4797",
     "showTitle": false,
     "tableResultSettingsMap": {},
     "title": ""
    }
   },
   "outputs": [],
   "source": [
    "%python\n",
    "# Set a Spark configuration value\n",
    "spark.conf.set(\"dataset.bookstore\", \"/mnt/tutorial\")\n",
    "\n",
    "# Get it back in Python\n",
    "print(spark.conf.get(\"dataset.bookstore\"))"
   ]
  },
  {
   "cell_type": "code",
   "execution_count": 0,
   "metadata": {
    "application/vnd.databricks.v1+cell": {
     "cellMetadata": {
      "byteLimit": 2048000,
      "rowLimit": 10000
     },
     "inputWidgets": {},
     "nuid": "5bdee4e8-ab83-41f4-a1ae-b637cf11db0c",
     "showTitle": false,
     "tableResultSettingsMap": {},
     "title": ""
    }
   },
   "outputs": [],
   "source": [
    "-- Query a single JSON file\n",
    "SELECT * FROM json.`${dataset.bookstore}/customers-json/export_001.json`"
   ]
  },
  {
   "cell_type": "code",
   "execution_count": 0,
   "metadata": {
    "application/vnd.databricks.v1+cell": {
     "cellMetadata": {
      "byteLimit": 2048000,
      "rowLimit": 10000
     },
     "inputWidgets": {},
     "nuid": "8010fff3-116d-4b4a-97fd-a2b597f79c2d",
     "showTitle": false,
     "tableResultSettingsMap": {},
     "title": ""
    }
   },
   "outputs": [],
   "source": [
    "-- Query multiple JSON files with a wildcard\n",
    "SELECT * \n",
    "FROM json.`${dataset.bookstore}/customers-json/export_*.json`;"
   ]
  },
  {
   "cell_type": "code",
   "execution_count": 0,
   "metadata": {
    "application/vnd.databricks.v1+cell": {
     "cellMetadata": {
      "byteLimit": 2048000,
      "rowLimit": 10000
     },
     "inputWidgets": {},
     "nuid": "97b91d3b-8132-455d-8e20-e268a13c24b4",
     "showTitle": false,
     "tableResultSettingsMap": {},
     "title": ""
    }
   },
   "outputs": [],
   "source": [
    "-- Query the entire directory\n",
    "SELECT * \n",
    "FROM json.`${dataset.bookstore}/customers-json`;\n",
    "-- Use case: Quickly validate or explore file contents before creating tables."
   ]
  },
  {
   "cell_type": "code",
   "execution_count": 0,
   "metadata": {
    "application/vnd.databricks.v1+cell": {
     "cellMetadata": {
      "byteLimit": 2048000,
      "rowLimit": 10000
     },
     "inputWidgets": {},
     "nuid": "85834e6d-3297-40da-bfa1-fee0f0ab56fd",
     "showTitle": false,
     "tableResultSettingsMap": {},
     "title": ""
    }
   },
   "outputs": [],
   "source": [
    "-- Count number of customers\n",
    "SELECT count(*) \n",
    "FROM json.`${dataset.bookstore}/customers-json`;"
   ]
  },
  {
   "cell_type": "markdown",
   "metadata": {
    "application/vnd.databricks.v1+cell": {
     "cellMetadata": {
      "byteLimit": 2048000,
      "rowLimit": 10000
     },
     "inputWidgets": {},
     "nuid": "a9ab185f-b8b6-40e3-b451-2a13aa9d824b",
     "showTitle": false,
     "tableResultSettingsMap": {},
     "title": ""
    }
   },
   "source": [
    "### 2.2 Non-self-describing formats\n",
    "\n",
    "For text, CSV, or binary files, Databricks doesn’t know the schema automatically."
   ]
  },
  {
   "cell_type": "code",
   "execution_count": 0,
   "metadata": {
    "application/vnd.databricks.v1+cell": {
     "cellMetadata": {
      "byteLimit": 2048000,
      "rowLimit": 10000
     },
     "inputWidgets": {},
     "nuid": "a3ce765a-ff7d-4c8f-b574-3a81790fd20e",
     "showTitle": false,
     "tableResultSettingsMap": {},
     "title": ""
    }
   },
   "outputs": [],
   "source": [
    "%sql\n",
    "-- Read as raw text (unparsed)\n",
    "SELECT * FROM text.`${dataset.bookstore}/customers-json`;"
   ]
  },
  {
   "cell_type": "code",
   "execution_count": 0,
   "metadata": {
    "application/vnd.databricks.v1+cell": {
     "cellMetadata": {
      "byteLimit": 2048000,
      "rowLimit": 10000
     },
     "inputWidgets": {},
     "nuid": "cf8d1386-cde3-4b50-9cde-39c9acaedbf4",
     "showTitle": false,
     "tableResultSettingsMap": {},
     "title": ""
    }
   },
   "outputs": [],
   "source": [
    "-- Read as raw binary (file bytes)\n",
    "SELECT * FROM binaryFile.`${dataset.bookstore}/customers-json`;"
   ]
  },
  {
   "cell_type": "code",
   "execution_count": 0,
   "metadata": {
    "application/vnd.databricks.v1+cell": {
     "cellMetadata": {
      "byteLimit": 2048000,
      "rowLimit": 10000
     },
     "inputWidgets": {},
     "nuid": "1c5e54a8-66c6-4b8f-ab72-f0b79ee364a1",
     "showTitle": false,
     "tableResultSettingsMap": {},
     "title": ""
    }
   },
   "outputs": [],
   "source": [
    "-- Read raw CSV (not parsed, no schema)\n",
    "SELECT * FROM csv.`${dataset.bookstore}/books-csv`;\n",
    "-- Here, schema is missing → need to manually define it when registering as a table."
   ]
  },
  {
   "cell_type": "markdown",
   "metadata": {
    "application/vnd.databricks.v1+cell": {
     "cellMetadata": {},
     "inputWidgets": {},
     "nuid": "67a9f674-c089-4e11-b8e7-f372532db5a8",
     "showTitle": false,
     "tableResultSettingsMap": {},
     "title": ""
    }
   },
   "source": [
    "### 2.3 Metadata: file source"
   ]
  },
  {
   "cell_type": "code",
   "execution_count": 0,
   "metadata": {
    "application/vnd.databricks.v1+cell": {
     "cellMetadata": {
      "byteLimit": 2048000,
      "rowLimit": 10000
     },
     "inputWidgets": {},
     "nuid": "3f3282b2-9a03-4e7d-ad17-8a907870770d",
     "showTitle": false,
     "tableResultSettingsMap": {},
     "title": ""
    }
   },
   "outputs": [],
   "source": [
    "-- Get the source file name\n",
    "SELECT *, input_file_name() AS source_file\n",
    "FROM json.`${dataset.bookstore}/customers-json`;\n",
    "-- Use case: Debugging or tracing records back to their source file."
   ]
  },
  {
   "cell_type": "markdown",
   "metadata": {
    "application/vnd.databricks.v1+cell": {
     "cellMetadata": {
      "byteLimit": 2048000,
      "rowLimit": 10000
     },
     "inputWidgets": {},
     "nuid": "89efd583-0048-4fd9-ada9-69df299b959b",
     "showTitle": false,
     "tableResultSettingsMap": {},
     "title": ""
    }
   },
   "source": [
    "## 3. Registering Tables on External Data Sources\n",
    "\n",
    "Instead of querying files every time, you can register external tables that point to file locations.\n",
    "\n",
    "### 3.1 Example: External CSV table"
   ]
  },
  {
   "cell_type": "code",
   "execution_count": 0,
   "metadata": {
    "application/vnd.databricks.v1+cell": {
     "cellMetadata": {
      "byteLimit": 2048000,
      "rowLimit": 10000
     },
     "inputWidgets": {},
     "nuid": "30af1de7-dda3-4ff1-ab4f-cb02005ac074",
     "showTitle": false,
     "tableResultSettingsMap": {},
     "title": ""
    }
   },
   "outputs": [],
   "source": [
    "USE hive_metastore.default;\n",
    "\n",
    "CREATE TABLE books_csv\n",
    "(book_id STRING, title STRING, author STRING)\n",
    "USING CSV\n",
    "OPTIONS (\n",
    "  header = \"true\",\n",
    "  delimiter = \";\"\n",
    ")\n",
    "LOCATION \"${dataset.bookstore}/books-csv\";\n",
    "\n",
    "DESCRIBE EXTENDED books_csv;\n",
    "\n",
    "-- Shows that it’s an external table with provider = CSV , non delta table"
   ]
  },
  {
   "cell_type": "code",
   "execution_count": 0,
   "metadata": {
    "application/vnd.databricks.v1+cell": {
     "cellMetadata": {
      "byteLimit": 2048000,
      "rowLimit": 10000
     },
     "inputWidgets": {},
     "nuid": "a6d39bce-148e-4a56-a570-6eedb795e10d",
     "showTitle": false,
     "tableResultSettingsMap": {},
     "title": ""
    }
   },
   "outputs": [],
   "source": [
    "SELECT * FROM books_csv;"
   ]
  },
  {
   "cell_type": "markdown",
   "metadata": {
    "application/vnd.databricks.v1+cell": {
     "cellMetadata": {
      "byteLimit": 2048000,
      "rowLimit": 10000
     },
     "inputWidgets": {},
     "nuid": "49ee7b69-4de8-4c2b-8a99-81c91b051e4d",
     "showTitle": false,
     "tableResultSettingsMap": {},
     "title": ""
    }
   },
   "source": [
    "### 3.2 Adding more files"
   ]
  },
  {
   "cell_type": "code",
   "execution_count": 0,
   "metadata": {
    "application/vnd.databricks.v1+cell": {
     "cellMetadata": {
      "byteLimit": 2048000,
      "rowLimit": 10000
     },
     "inputWidgets": {},
     "nuid": "4a79da3e-34e9-41d9-a38f-4a2a679514b5",
     "showTitle": false,
     "tableResultSettingsMap": {},
     "title": ""
    }
   },
   "outputs": [],
   "source": [
    "%python\n",
    "dataset_bookstore = \"dbfs:/mnt/tutorial\"  # Set base path\n",
    "\n",
    "(spark.read\n",
    " .table(\"books_csv\")  # Read Hive/Delta table\n",
    " .write\n",
    " .mode(\"append\")      # Append mode\n",
    " .format(\"csv\")       # Save as CSV\n",
    " .option(\"header\", \"true\")\n",
    " .option(\"delimiter\", \";\")\n",
    " .save(f\"{dataset_bookstore}/books-csv\"))  # Save to DBFS"
   ]
  },
  {
   "cell_type": "code",
   "execution_count": 0,
   "metadata": {
    "application/vnd.databricks.v1+cell": {
     "cellMetadata": {
      "byteLimit": 2048000,
      "rowLimit": 10000
     },
     "inputWidgets": {},
     "nuid": "03a6a769-602c-4991-bbf6-6f66f4593778",
     "showTitle": false,
     "tableResultSettingsMap": {},
     "title": ""
    }
   },
   "outputs": [],
   "source": [
    "%python\n",
    "## Check new files: \n",
    "files = dbutils.fs.ls(f\"{dataset_bookstore}/books-csv\")\n",
    "display(files)"
   ]
  },
  {
   "cell_type": "code",
   "execution_count": 0,
   "metadata": {
    "application/vnd.databricks.v1+cell": {
     "cellMetadata": {
      "byteLimit": 2048000,
      "rowLimit": 10000
     },
     "inputWidgets": {},
     "nuid": "0d5baf27-5690-4db0-8a35-61b32c18d3e4",
     "showTitle": false,
     "tableResultSettingsMap": {},
     "title": ""
    }
   },
   "outputs": [],
   "source": [
    "-- But Note:\n",
    "SELECT count(*) FROM books_csv;\n",
    "-- Cached, doesn’t pick new files automatically\n"
   ]
  },
  {
   "cell_type": "code",
   "execution_count": 0,
   "metadata": {
    "application/vnd.databricks.v1+cell": {
     "cellMetadata": {
      "byteLimit": 2048000,
      "rowLimit": 10000
     },
     "inputWidgets": {},
     "nuid": "ba588650-13e2-4bdd-b987-8c957902b19c",
     "showTitle": false,
     "tableResultSettingsMap": {},
     "title": ""
    }
   },
   "outputs": [],
   "source": [
    "-- Solution: Refresh table\n",
    "REFRESH TABLE books_csv;"
   ]
  },
  {
   "cell_type": "code",
   "execution_count": 0,
   "metadata": {
    "application/vnd.databricks.v1+cell": {
     "cellMetadata": {
      "byteLimit": 2048000,
      "rowLimit": 10000
     },
     "inputWidgets": {},
     "nuid": "fce62c4f-6ab8-4bcf-abb2-c9f7b3cf4888",
     "showTitle": false,
     "tableResultSettingsMap": {},
     "title": ""
    }
   },
   "outputs": [],
   "source": [
    "SELECT count(*) FROM books_csv;"
   ]
  },
  {
   "cell_type": "markdown",
   "metadata": {
    "application/vnd.databricks.v1+cell": {
     "cellMetadata": {
      "byteLimit": 2048000,
      "rowLimit": 10000
     },
     "inputWidgets": {},
     "nuid": "c34025e5-6bb6-4ae6-8201-8b60800ce484",
     "showTitle": false,
     "tableResultSettingsMap": {},
     "title": ""
    }
   },
   "source": [
    "#### Limitations of external non-Delta tables\n",
    "- Not Delta → no Time Travel\n",
    "- Limited schema evolution support\n",
    "- Performance issues on large datasets (no transaction log)\n",
    "- Schema must be defined manually"
   ]
  },
  {
   "cell_type": "markdown",
   "metadata": {
    "application/vnd.databricks.v1+cell": {
     "cellMetadata": {},
     "inputWidgets": {},
     "nuid": "b7606456-3083-4b97-80cb-08cf2d44bb77",
     "showTitle": false,
     "tableResultSettingsMap": {},
     "title": ""
    }
   },
   "source": [
    "## 4. Creating Delta Tables with CTAS\n",
    "\n",
    "- Delta Lake is the default format in Databricks.\n",
    "- **Best practice:** Use CTAS (Create Table As Select) to convert external sources → Delta tables.\n",
    "\n",
    "### 4.1 JSON → Delta"
   ]
  },
  {
   "cell_type": "code",
   "execution_count": 0,
   "metadata": {
    "application/vnd.databricks.v1+cell": {
     "cellMetadata": {
      "byteLimit": 2048000,
      "rowLimit": 10000
     },
     "inputWidgets": {},
     "nuid": "b9d989a7-e470-4c23-923b-ff1ab37a7d68",
     "showTitle": false,
     "tableResultSettingsMap": {},
     "title": ""
    }
   },
   "outputs": [],
   "source": [
    "CREATE TABLE customers AS\n",
    "SELECT * \n",
    "FROM json.`${dataset.bookstore}/customers-json`;\n",
    "\n",
    "DESCRIBE EXTENDED customers;\n",
    "-- Now customers is a Delta managed table. Schema was automatically inferred."
   ]
  },
  {
   "cell_type": "markdown",
   "metadata": {
    "application/vnd.databricks.v1+cell": {
     "cellMetadata": {},
     "inputWidgets": {},
     "nuid": "a2ab1cdf-9002-4e82-b698-b9221fbe85d6",
     "showTitle": false,
     "tableResultSettingsMap": {},
     "title": ""
    }
   },
   "source": [
    "### 4.2 CSV → Delta (unparsed vs parsed)"
   ]
  },
  {
   "cell_type": "code",
   "execution_count": 0,
   "metadata": {
    "application/vnd.databricks.v1+cell": {
     "cellMetadata": {
      "byteLimit": 2048000,
      "rowLimit": 10000
     },
     "inputWidgets": {},
     "nuid": "c21482a9-9728-470b-ad8e-abfe7081ac25",
     "showTitle": false,
     "tableResultSettingsMap": {},
     "title": ""
    }
   },
   "outputs": [],
   "source": [
    "-- Unparsed CSV:\n",
    "CREATE TABLE books_unparsed AS\n",
    "SELECT * \n",
    "FROM csv.`${dataset.bookstore}/books-csv`;"
   ]
  },
  {
   "cell_type": "code",
   "execution_count": 0,
   "metadata": {
    "application/vnd.databricks.v1+cell": {
     "cellMetadata": {
      "byteLimit": 2048000,
      "rowLimit": 10000
     },
     "inputWidgets": {},
     "nuid": "9e209e6b-cb4d-4980-a843-ea3359be421f",
     "showTitle": false,
     "tableResultSettingsMap": {},
     "title": ""
    }
   },
   "outputs": [],
   "source": [
    "select * from books_unparsed;"
   ]
  },
  {
   "cell_type": "code",
   "execution_count": 0,
   "metadata": {
    "application/vnd.databricks.v1+cell": {
     "cellMetadata": {
      "byteLimit": 2048000,
      "rowLimit": 10000
     },
     "inputWidgets": {},
     "nuid": "3788ede1-2a93-45c1-848f-776b72e5a100",
     "showTitle": false,
     "tableResultSettingsMap": {},
     "title": ""
    }
   },
   "outputs": [],
   "source": [
    "-- Solution: Using temp view with schema:\n",
    "DROP VIEW IF EXISTS books_tmp_vw;\n",
    "CREATE TEMP VIEW books_tmp_vw\n",
    "(book_id STRING, title STRING, author STRING, category STRING, price DOUBLE)\n",
    "USING csv\n",
    "OPTIONS (\n",
    "  path = \"${dataset.bookstore}/books-csv/export_*.csv\",\n",
    "  header = \"true\",\n",
    "  delimiter = \";\"\n",
    ");\n"
   ]
  },
  {
   "cell_type": "code",
   "execution_count": 0,
   "metadata": {
    "application/vnd.databricks.v1+cell": {
     "cellMetadata": {
      "byteLimit": 2048000,
      "rowLimit": 10000
     },
     "inputWidgets": {},
     "nuid": "d0e25b25-f8e3-4ebe-8a88-42a651d3715b",
     "showTitle": false,
     "tableResultSettingsMap": {},
     "title": ""
    }
   },
   "outputs": [],
   "source": [
    "CREATE TABLE books AS\n",
    "SELECT * FROM books_tmp_vw;\n",
    "-- Now books is a Delta table with schema inferred.\n",
    "\n",
    "DESCRIBE EXTENDED books;"
   ]
  },
  {
   "cell_type": "markdown",
   "metadata": {
    "application/vnd.databricks.v1+cell": {
     "cellMetadata": {},
     "inputWidgets": {},
     "nuid": "dbfe8976-7ba7-47d9-9fbb-616a5de43986",
     "showTitle": false,
     "tableResultSettingsMap": {},
     "title": ""
    }
   },
   "source": [
    "## 5. Advanced: Querying with read_files()\n",
    "\n",
    "Databricks recently introduced read_files() for easier direct querying."
   ]
  },
  {
   "cell_type": "markdown",
   "metadata": {
    "application/vnd.databricks.v1+cell": {
     "cellMetadata": {},
     "inputWidgets": {},
     "nuid": "618dbf6d-a6a3-4b55-8edb-1cac49f0dd3c",
     "showTitle": false,
     "tableResultSettingsMap": {},
     "title": ""
    }
   },
   "source": [
    "### 5.1 Example: CSV query\n",
    "- Automatically infers a unified schema across all files.\n",
    "- Stores mismatched values in _rescued_data column."
   ]
  },
  {
   "cell_type": "code",
   "execution_count": 0,
   "metadata": {
    "application/vnd.databricks.v1+cell": {
     "cellMetadata": {
      "byteLimit": 2048000,
      "rowLimit": 10000
     },
     "inputWidgets": {},
     "nuid": "d6e6280c-dbb9-4ae9-9819-e8a8e17db327",
     "showTitle": false,
     "tableResultSettingsMap": {},
     "title": ""
    }
   },
   "outputs": [],
   "source": [
    "SELECT * FROM read_files(\n",
    "  '${dataset.bookstore}/books-csv/export_*.csv',\n",
    "  format => 'csv',\n",
    "  header => 'true',\n",
    "  delimiter => ';'\n",
    ");"
   ]
  },
  {
   "cell_type": "markdown",
   "metadata": {
    "application/vnd.databricks.v1+cell": {
     "cellMetadata": {},
     "inputWidgets": {},
     "nuid": "c5be9cc8-d263-4cd4-b89c-30e5ee7c0290",
     "showTitle": false,
     "tableResultSettingsMap": {},
     "title": ""
    }
   },
   "source": [
    "### 5.2 Create Delta table directly from read_files"
   ]
  },
  {
   "cell_type": "code",
   "execution_count": 0,
   "metadata": {
    "application/vnd.databricks.v1+cell": {
     "cellMetadata": {
      "byteLimit": 2048000,
      "rowLimit": 10000
     },
     "inputWidgets": {},
     "nuid": "9d5dd7bf-acab-4f5b-b8ba-efb1a2044d16",
     "showTitle": false,
     "tableResultSettingsMap": {},
     "title": ""
    }
   },
   "outputs": [],
   "source": [
    "DROP TABLE IF EXISTS books;\n",
    "CREATE TABLE books\n",
    "AS SELECT * FROM read_files(\n",
    "    '${dataset.bookstore}/books-csv/export_*.csv',\n",
    "    format => 'csv',\n",
    "    header => 'true',\n",
    "    delimiter => ','\n",
    ");\n",
    "\n",
    "DESCRIBE EXTENDED books;\n",
    "-- Delta table created directly.\n",
    "-- Schema inference handled automatically."
   ]
  },
  {
   "cell_type": "markdown",
   "metadata": {
    "application/vnd.databricks.v1+cell": {
     "cellMetadata": {},
     "inputWidgets": {},
     "nuid": "71468b7d-991e-4093-b10b-9d909cfe620c",
     "showTitle": false,
     "tableResultSettingsMap": {},
     "title": ""
    }
   },
   "source": [
    "## The _metadata Column\n",
    "The input_file_name() function is no longer supported in newer versions of the Databricks Runtime. As an alternative, you can use the _metadata.file_path attribute to retrieve the file path information."
   ]
  },
  {
   "cell_type": "code",
   "execution_count": 0,
   "metadata": {
    "application/vnd.databricks.v1+cell": {
     "cellMetadata": {
      "byteLimit": 2048000,
      "rowLimit": 10000
     },
     "inputWidgets": {},
     "nuid": "9c7cccb5-c325-4250-953e-987b79ea7145",
     "showTitle": false,
     "tableResultSettingsMap": {},
     "title": ""
    }
   },
   "outputs": [],
   "source": [
    "SELECT *,\n",
    "       _metadata.file_path AS source_file\n",
    "FROM json.`${dataset.bookstore}/customers-json`;"
   ]
  },
  {
   "cell_type": "code",
   "execution_count": 0,
   "metadata": {
    "application/vnd.databricks.v1+cell": {
     "cellMetadata": {
      "byteLimit": 2048000,
      "rowLimit": 10000
     },
     "inputWidgets": {},
     "nuid": "02ed4d0d-ecd7-4266-aefa-1937c14f41ea",
     "showTitle": false,
     "tableResultSettingsMap": {},
     "title": ""
    }
   },
   "outputs": [],
   "source": [
    "SELECT *,\n",
    "       _metadata.file_name AS source_file\n",
    "FROM json.`${dataset.bookstore}/customers-json`;"
   ]
  },
  {
   "cell_type": "code",
   "execution_count": 0,
   "metadata": {
    "application/vnd.databricks.v1+cell": {
     "cellMetadata": {
      "byteLimit": 2048000,
      "rowLimit": 10000
     },
     "inputWidgets": {},
     "nuid": "2c86d57a-5583-4974-8c88-69add83e8596",
     "showTitle": false,
     "tableResultSettingsMap": {},
     "title": ""
    }
   },
   "outputs": [],
   "source": [
    "SELECT *,\n",
    "       _metadata.file_size AS source_file\n",
    "FROM json.`${dataset.bookstore}/customers-json`;"
   ]
  },
  {
   "cell_type": "code",
   "execution_count": 0,
   "metadata": {
    "application/vnd.databricks.v1+cell": {
     "cellMetadata": {
      "byteLimit": 2048000,
      "rowLimit": 10000
     },
     "inputWidgets": {},
     "nuid": "fbbadec1-dd3e-4231-a8d2-d6191a322374",
     "showTitle": false,
     "tableResultSettingsMap": {},
     "title": ""
    }
   },
   "outputs": [],
   "source": [
    "SELECT *,\n",
    "       _metadata.file_modification_time AS source_file\n",
    "FROM json.`${dataset.bookstore}/customers-json`;"
   ]
  },
  {
   "cell_type": "markdown",
   "metadata": {
    "application/vnd.databricks.v1+cell": {
     "cellMetadata": {},
     "inputWidgets": {},
     "nuid": "c7d87c68-95b6-48a6-9753-62fd63c6d281",
     "showTitle": false,
     "tableResultSettingsMap": {},
     "title": ""
    }
   },
   "source": [
    "By leveraging the _metadata column, you can access various details about your input files, such as:\n",
    "\n",
    "**_metadata.file_path:** The full path to the input file.\n",
    "\n",
    "**_metadata.file_name:** The name of the file, including its extension.\n",
    "\n",
    "**_metadata.file_size:** The size of the file in bytes.\n",
    "\n",
    "**_metadata.file_modification_time:** The timestamp of the last modification made to the file."
   ]
  },
  {
   "cell_type": "markdown",
   "metadata": {
    "application/vnd.databricks.v1+cell": {
     "cellMetadata": {},
     "inputWidgets": {},
     "nuid": "6f4d6835-953d-4b23-8eba-47bfa5d2263b",
     "showTitle": false,
     "tableResultSettingsMap": {},
     "title": ""
    }
   },
   "source": [
    "## 6. Summary\n",
    "\n",
    "- Query files directly → Quick exploration (select * from json.path``).\n",
    "- External tables → Point to raw files, but limited (not Delta).\n",
    "- CTAS → Delta tables → Schema inferred automatically, Delta benefits (time travel, ACID, schema evolution).\n",
    "- read_files() → Simplifies querying multiple files and creating Delta tables directly.\n",
    "- The _metadata Column"
   ]
  }
 ],
 "metadata": {
  "application/vnd.databricks.v1+notebook": {
   "computePreferences": null,
   "dashboards": [],
   "environmentMetadata": {
    "base_environment": "",
    "environment_version": "3"
   },
   "inputWidgetPreferences": null,
   "language": "sql",
   "notebookMetadata": {
    "pythonIndentUnit": 4
   },
   "notebookName": "8. Query Data From Files",
   "widgets": {}
  },
  "language_info": {
   "name": "sql"
  }
 },
 "nbformat": 4,
 "nbformat_minor": 0
}
