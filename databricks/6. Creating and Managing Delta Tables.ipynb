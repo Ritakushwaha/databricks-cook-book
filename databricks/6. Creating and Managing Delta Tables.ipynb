{
 "cells": [
  {
   "cell_type": "markdown",
   "metadata": {
    "application/vnd.databricks.v1+cell": {
     "cellMetadata": {},
     "inputWidgets": {},
     "nuid": "af0b9319-f75c-4536-8a51-fd73106bb2f5",
     "showTitle": false,
     "tableResultSettingsMap": {},
     "title": ""
    }
   },
   "source": [
    "# Delta Lake: Creating and Managing Tables\n",
    "\n",
    "Delta Lake supports **reliable, ACID-compliant tables** with advanced features like schema enforcement, constraints, cloning, and views.\n",
    "\n",
    "This tutorial covers:\n",
    "\n",
    "1. CTAS (Create Table As Select)  \n",
    "2. Table Constraints  \n",
    "3. Cloning Delta Tables"
   ]
  },
  {
   "cell_type": "markdown",
   "metadata": {
    "application/vnd.databricks.v1+cell": {
     "cellMetadata": {},
     "inputWidgets": {},
     "nuid": "739144b5-328e-4d89-a06e-b0c45a9dd0be",
     "showTitle": false,
     "tableResultSettingsMap": {},
     "title": ""
    }
   },
   "source": [
    "## Sample Table Setup\n",
    "\n",
    "We’ll create a simple `sales` table with `CREATE TABLE` and insert a few rows.\n"
   ]
  },
  {
   "cell_type": "code",
   "execution_count": 0,
   "metadata": {
    "application/vnd.databricks.v1+cell": {
     "cellMetadata": {
      "byteLimit": 2048000,
      "rowLimit": 10000
     },
     "inputWidgets": {},
     "nuid": "4be4db5c-cb34-4984-9375-45a4705effba",
     "showTitle": false,
     "tableResultSettingsMap": {},
     "title": ""
    }
   },
   "outputs": [],
   "source": [
    "USE CATALOG hive_metastore;\n",
    "\n",
    "-- Create table definition\n",
    "CREATE TABLE sales (\n",
    "  id INT,\n",
    "  customer STRING,\n",
    "  amount DOUBLE,\n",
    "  region STRING,\n",
    "  order_date DATE\n",
    ")\n",
    "USING DELTA;\n",
    "\n",
    "-- Insert sample rows\n",
    "INSERT INTO sales VALUES\n",
    "  (1, 'Alice', 120.50, 'West',  DATE'2025-08-01'),\n",
    "  (2, 'Bob',   75.00,  'East',  DATE'2025-08-02'),\n",
    "  (3, 'Carol', 200.00, 'West',  DATE'2025-08-02'),\n",
    "  (4, 'David', 50.00,  'North', DATE'2025-08-03'),\n",
    "  (5, 'Eve',   300.00, 'South', DATE'2025-08-03');\n",
    "\n",
    "-- Verify data\n",
    "SELECT * FROM sales;"
   ]
  },
  {
   "cell_type": "markdown",
   "metadata": {
    "application/vnd.databricks.v1+cell": {
     "cellMetadata": {},
     "inputWidgets": {},
     "nuid": "efbcb26e-d37b-477a-8ac8-28ff09eef243",
     "showTitle": false,
     "tableResultSettingsMap": {},
     "title": ""
    }
   },
   "source": [
    "## 1. Create Table As Select (CTAS)\n",
    "\n",
    "CTAS = **Create Table As Select**.  \n",
    "It allows you to create a new table directly from a query result.\n",
    "\n",
    "Key Points:\n",
    "- Schema is **automatically inferred** from query (cannot be declared manually).\n",
    "- Can filter, rename, or transform columns in SELECT.\n",
    "- Can add **options**: `COMMENT`, `PARTITIONED BY`, `LOCATION`.\n",
    "- Supports both **managed** (default) and **external** (with LOCATION) tables.\n"
   ]
  },
  {
   "cell_type": "code",
   "execution_count": 0,
   "metadata": {
    "application/vnd.databricks.v1+cell": {
     "cellMetadata": {
      "byteLimit": 2048000,
      "rowLimit": 10000
     },
     "inputWidgets": {},
     "nuid": "9e5ee007-36b2-4b7c-93b7-83347a390f14",
     "showTitle": false,
     "tableResultSettingsMap": {},
     "title": ""
    }
   },
   "outputs": [],
   "source": [
    "-- Create a managed Delta table from SELECT\n",
    "CREATE TABLE sales_ctas\n",
    "COMMENT \"Managed Sales table created via CTAS\"\n",
    "PARTITIONED BY (region)\n",
    "AS\n",
    "SELECT\n",
    "    id,\n",
    "    customer,\n",
    "    amount * 1.18 AS amount_with_tax,   -- transformation\n",
    "    region\n",
    "FROM sales\n",
    "WHERE region = 'West';\n",
    "\n",
    "SELECT * FROM sales_ctas;"
   ]
  },
  {
   "cell_type": "code",
   "execution_count": 0,
   "metadata": {
    "application/vnd.databricks.v1+cell": {
     "cellMetadata": {
      "byteLimit": 2048000,
      "rowLimit": 10000
     },
     "inputWidgets": {},
     "nuid": "d394da54-7322-45c8-92ad-344292490822",
     "showTitle": false,
     "tableResultSettingsMap": {},
     "title": ""
    }
   },
   "outputs": [],
   "source": [
    "-- Inspect table details\n",
    "DESCRIBE EXTENDED sales_ctas;"
   ]
  },
  {
   "cell_type": "code",
   "execution_count": 0,
   "metadata": {
    "application/vnd.databricks.v1+cell": {
     "cellMetadata": {
      "byteLimit": 2048000,
      "rowLimit": 10000
     },
     "inputWidgets": {},
     "nuid": "78c63947-228d-4720-9f81-c06a5fabd1d8",
     "showTitle": false,
     "tableResultSettingsMap": {},
     "title": ""
    }
   },
   "outputs": [],
   "source": [
    "-- External CTAS (data stored in a custom location)\n",
    "CREATE TABLE IF NOT EXISTS external_sales_ctas\n",
    "COMMENT \"External Sales table created via CTAS\"\n",
    "PARTITIONED BY (region)\n",
    "LOCATION 'dbfs:/mnt/demo/external/sales_temp'\n",
    "AS\n",
    "SELECT id, customer, amount, region\n",
    "FROM sales;\n",
    "\n",
    "-- Verify\n",
    "SELECT * FROM external_sales_ctas;"
   ]
  },
  {
   "cell_type": "code",
   "execution_count": 0,
   "metadata": {
    "application/vnd.databricks.v1+cell": {
     "cellMetadata": {
      "byteLimit": 2048000,
      "rowLimit": 10000
     },
     "inputWidgets": {},
     "nuid": "c8f71a51-8de9-4f20-a8fe-b7eda7bcb344",
     "showTitle": false,
     "tableResultSettingsMap": {},
     "title": ""
    }
   },
   "outputs": [],
   "source": [
    "-- Inspect table details\n",
    "DESCRIBE EXTENDED external_sales_ctas;"
   ]
  },
  {
   "cell_type": "code",
   "execution_count": 0,
   "metadata": {
    "application/vnd.databricks.v1+cell": {
     "cellMetadata": {
      "byteLimit": 2048000,
      "rowLimit": 10000
     },
     "inputWidgets": {},
     "nuid": "269b7a78-b100-4335-bc02-7fa4d765f4b7",
     "showTitle": false,
     "tableResultSettingsMap": {},
     "title": ""
    }
   },
   "outputs": [],
   "source": [
    "-- Create a new table using CTAS\n",
    "CREATE OR REPLACE TABLE tranformed_sales_ctas AS\n",
    "SELECT\n",
    "  id AS sale_id,                               -- rename\n",
    "  customer,                                    -- keep as is\n",
    "  UPPER(region) AS region_upper,               -- transform\n",
    "  amount * 1.1 AS amount_with_tax,             -- transform (add 10% tax)\n",
    "  order_date\n",
    "FROM sales\n",
    "WHERE amount > 100;                            -- filter\n",
    "\n",
    "-- Verify\n",
    "SELECT * FROM tranformed_sales_ctas;\n"
   ]
  },
  {
   "cell_type": "markdown",
   "metadata": {
    "application/vnd.databricks.v1+cell": {
     "cellMetadata": {},
     "inputWidgets": {},
     "nuid": "e051aea5-565a-430f-ad69-f814ecd2c4b7",
     "showTitle": false,
     "tableResultSettingsMap": {},
     "title": ""
    }
   },
   "source": [
    "## 2. Table Constraints in Delta Lake\n",
    "\n",
    "Constraints help enforce data quality.\n",
    "\n",
    "### Types of Constraints\n",
    "- **NOT NULL** – Column cannot contain NULL values.  \n",
    "- **CHECK** – Condition must be satisfied by all rows.\n",
    "\n",
    "Constraints are **enforced at write time** (INSERT/UPDATE/MERGE).\n"
   ]
  },
  {
   "cell_type": "code",
   "execution_count": 0,
   "metadata": {
    "application/vnd.databricks.v1+cell": {
     "cellMetadata": {
      "byteLimit": 2048000,
      "rowLimit": 10000
     },
     "inputWidgets": {},
     "nuid": "be33b2d1-50a3-449e-aeaa-4f7e99f954c0",
     "showTitle": false,
     "tableResultSettingsMap": {},
     "title": ""
    }
   },
   "outputs": [],
   "source": [
    "-- Create table with NOT NULL constraint\n",
    "CREATE TABLE customers (\n",
    "  id INT NOT NULL,\n",
    "  name STRING NOT NULL,\n",
    "  email STRING\n",
    ") USING DELTA;\n",
    "\n",
    "-- Add a CHECK constraint\n",
    "ALTER TABLE customers\n",
    "ADD CONSTRAINT valid_id CHECK (id > 0);"
   ]
  },
  {
   "cell_type": "code",
   "execution_count": 0,
   "metadata": {
    "application/vnd.databricks.v1+cell": {
     "cellMetadata": {
      "byteLimit": 2048000,
      "rowLimit": 10000
     },
     "inputWidgets": {},
     "nuid": "55cc65fd-893c-429c-9440-0554227564a3",
     "showTitle": false,
     "tableResultSettingsMap": {},
     "title": ""
    }
   },
   "outputs": [],
   "source": [
    "\n",
    "-- Violating constraints will fail:\n",
    "INSERT INTO customers VALUES (NULL, 'John', 'john@example.com'); -- fails"
   ]
  },
  {
   "cell_type": "code",
   "execution_count": 0,
   "metadata": {
    "application/vnd.databricks.v1+cell": {
     "cellMetadata": {
      "byteLimit": 2048000,
      "rowLimit": 10000
     },
     "inputWidgets": {},
     "nuid": "226751df-6408-4f40-bcf5-8ca316630008",
     "showTitle": false,
     "tableResultSettingsMap": {
      "0": {
       "dataGridStateBlob": "{\"version\":1,\"tableState\":{\"columnPinning\":{\"left\":[\"#row_number#\"],\"right\":[]},\"columnSizing\":{},\"columnVisibility\":{}},\"settings\":{\"columns\":{}},\"syncTimestamp\":1756382332921}",
       "filterBlob": null,
       "queryPlanFiltersBlob": null,
       "tableResultIndex": 0
      }
     },
     "title": ""
    }
   },
   "outputs": [],
   "source": [
    "\n",
    "-- Don not voilate constraints will pass:\n",
    "INSERT INTO customers VALUES (1, 'John', 'john@example.com'); -- pass\n",
    "SELECT * FROM customers;"
   ]
  },
  {
   "cell_type": "code",
   "execution_count": 0,
   "metadata": {
    "application/vnd.databricks.v1+cell": {
     "cellMetadata": {
      "byteLimit": 2048000,
      "rowLimit": 10000
     },
     "inputWidgets": {},
     "nuid": "c24e02ac-9c37-461c-9dce-54d6624a4e74",
     "showTitle": false,
     "tableResultSettingsMap": {
      "0": {
       "dataGridStateBlob": "{\"version\":1,\"tableState\":{\"columnPinning\":{\"left\":[\"#row_number#\"],\"right\":[]},\"columnSizing\":{},\"columnVisibility\":{}},\"settings\":{\"columns\":{}},\"syncTimestamp\":1756380535505}",
       "filterBlob": null,
       "queryPlanFiltersBlob": null,
       "tableResultIndex": 0
      }
     },
     "title": ""
    }
   },
   "outputs": [],
   "source": [
    "-- View constraints metadata\n",
    "DESCRIBE DETAIL customers;"
   ]
  },
  {
   "cell_type": "code",
   "execution_count": 0,
   "metadata": {
    "application/vnd.databricks.v1+cell": {
     "cellMetadata": {
      "byteLimit": 2048000,
      "rowLimit": 10000
     },
     "inputWidgets": {},
     "nuid": "862bc0b6-4690-47e5-9554-d7ec23a00003",
     "showTitle": false,
     "tableResultSettingsMap": {},
     "title": ""
    }
   },
   "outputs": [],
   "source": [
    "SHOW TBLPROPERTIES customers;"
   ]
  },
  {
   "cell_type": "markdown",
   "metadata": {
    "application/vnd.databricks.v1+cell": {
     "cellMetadata": {},
     "inputWidgets": {},
     "nuid": "8fc1a8e3-697e-4472-910a-6898b7492f91",
     "showTitle": false,
     "tableResultSettingsMap": {},
     "title": ""
    }
   },
   "source": [
    "## 3. Cloning Delta Tables\n",
    "\n",
    "Delta supports **zero-copy cloning** for testing, migration, or experimentation.\n",
    "\n",
    "### Types of Clones\n",
    "- **SHALLOW CLONE**  \n",
    "  - Copies only transaction logs.  \n",
    "  - Fast and space-efficient.  \n",
    "  - Underlying data is still linked.  \n",
    "\n",
    "- **DEEP CLONE**  \n",
    "  - Full copy of data + logs.  \n",
    "  - Useful for **isolated testing** or backup.  \n",
    "  - Takes more time and storage.\n"
   ]
  },
  {
   "cell_type": "code",
   "execution_count": 0,
   "metadata": {
    "application/vnd.databricks.v1+cell": {
     "cellMetadata": {
      "byteLimit": 2048000,
      "rowLimit": 10000
     },
     "inputWidgets": {},
     "nuid": "4438baac-332d-4b85-b88b-397f29528b73",
     "showTitle": false,
     "tableResultSettingsMap": {},
     "title": ""
    }
   },
   "outputs": [],
   "source": [
    "-- Shallow clone: just metadata, no data copy\n",
    "CREATE TABLE sales_clone SHALLOW CLONE sales_ctas;\n",
    "DESCRIBE DETAIL sales_clone;"
   ]
  },
  {
   "cell_type": "code",
   "execution_count": 0,
   "metadata": {
    "application/vnd.databricks.v1+cell": {
     "cellMetadata": {
      "byteLimit": 2048000,
      "rowLimit": 10000
     },
     "inputWidgets": {},
     "nuid": "ded8b810-efed-4e2a-8186-a84fe1f167b8",
     "showTitle": false,
     "tableResultSettingsMap": {},
     "title": ""
    }
   },
   "outputs": [],
   "source": [
    "%fs ls 'dbfs:/user/hive/warehouse/sales_clone'"
   ]
  },
  {
   "cell_type": "code",
   "execution_count": 0,
   "metadata": {
    "application/vnd.databricks.v1+cell": {
     "cellMetadata": {
      "byteLimit": 2048000,
      "rowLimit": 10000
     },
     "inputWidgets": {},
     "nuid": "7ceb6a38-84c3-4618-81f2-276aaa4baa58",
     "showTitle": false,
     "tableResultSettingsMap": {},
     "title": ""
    }
   },
   "outputs": [],
   "source": [
    "-- Deep clone: full copy\n",
    "CREATE TABLE sales_deep_clone DEEP CLONE sales_ctas;\n",
    "DESCRIBE DETAIL sales_deep_clone;"
   ]
  },
  {
   "cell_type": "code",
   "execution_count": 0,
   "metadata": {
    "application/vnd.databricks.v1+cell": {
     "cellMetadata": {
      "byteLimit": 2048000,
      "rowLimit": 10000
     },
     "inputWidgets": {},
     "nuid": "0a191f29-0569-474d-91fa-71b35b16566e",
     "showTitle": false,
     "tableResultSettingsMap": {},
     "title": ""
    }
   },
   "outputs": [],
   "source": [
    "%fs ls 'dbfs:/user/hive/warehouse/sales_deep_clone'"
   ]
  },
  {
   "cell_type": "code",
   "execution_count": 0,
   "metadata": {
    "application/vnd.databricks.v1+cell": {
     "cellMetadata": {
      "byteLimit": 2048000,
      "rowLimit": 10000
     },
     "inputWidgets": {},
     "nuid": "26a6f984-f4b9-4efc-be18-276a11741f6f",
     "showTitle": false,
     "tableResultSettingsMap": {},
     "title": ""
    }
   },
   "outputs": [],
   "source": [
    "-- Deep clone with location (useful for backups)\n",
    "CREATE TABLE backup_sales\n",
    "DEEP CLONE sales_ctas\n",
    "LOCATION 'dbfs:/mnt/backup/sales_clone';\n",
    "DESCRIBE DETAIL backup_sales;"
   ]
  },
  {
   "cell_type": "code",
   "execution_count": 0,
   "metadata": {
    "application/vnd.databricks.v1+cell": {
     "cellMetadata": {
      "byteLimit": 2048000,
      "rowLimit": 10000
     },
     "inputWidgets": {},
     "nuid": "5df2161e-2be4-4170-9032-1cfc1bfd6821",
     "showTitle": false,
     "tableResultSettingsMap": {},
     "title": ""
    }
   },
   "outputs": [],
   "source": [
    "%fs ls 'dbfs:/mnt/backup/sales_clone'"
   ]
  },
  {
   "cell_type": "markdown",
   "metadata": {
    "application/vnd.databricks.v1+cell": {
     "cellMetadata": {},
     "inputWidgets": {},
     "nuid": "238ec00d-4683-423d-86e1-cfa48a1c2ec2",
     "showTitle": false,
     "tableResultSettingsMap": {},
     "title": ""
    }
   },
   "source": [
    "Use case: clone **production tables** into a **testing environment** without impacting production.\n"
   ]
  },
  {
   "cell_type": "markdown",
   "metadata": {
    "application/vnd.databricks.v1+cell": {
     "cellMetadata": {},
     "inputWidgets": {},
     "nuid": "53d05f00-1531-45dc-87ac-8fc943ea8b97",
     "showTitle": false,
     "tableResultSettingsMap": {},
     "title": ""
    }
   },
   "source": [
    "# Summary\n",
    "\n",
    "- **CTAS** creates tables from queries with auto schema inference.  \n",
    "- **Constraints** (NOT NULL, CHECK) enforce data quality.  \n",
    "- **Cloning** (SHALLOW/DEEP) enables testing, backups, and migrations.\n"
   ]
  },
  {
   "cell_type": "markdown",
   "metadata": {
    "application/vnd.databricks.v1+cell": {
     "cellMetadata": {},
     "inputWidgets": {},
     "nuid": "ff224737-08f3-49d1-8fbb-ed7927c04715",
     "showTitle": false,
     "tableResultSettingsMap": {},
     "title": ""
    }
   },
   "source": []
  }
 ],
 "metadata": {
  "application/vnd.databricks.v1+notebook": {
   "computePreferences": null,
   "dashboards": [],
   "environmentMetadata": {
    "base_environment": "",
    "environment_version": "3"
   },
   "inputWidgetPreferences": null,
   "language": "sql",
   "notebookMetadata": {
    "mostRecentlyExecutedCommandWithImplicitDF": {
     "commandId": 6245095451805635,
     "dataframes": [
      "_sqldf"
     ]
    },
    "pythonIndentUnit": 4
   },
   "notebookName": "6. Creating and Managing Delta Tables",
   "widgets": {}
  },
  "language_info": {
   "name": "sql"
  }
 },
 "nbformat": 4,
 "nbformat_minor": 0
}
