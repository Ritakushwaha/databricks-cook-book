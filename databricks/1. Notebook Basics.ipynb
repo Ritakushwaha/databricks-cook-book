{
 "cells": [
  {
   "cell_type": "markdown",
   "metadata": {
    "application/vnd.databricks.v1+cell": {
     "cellMetadata": {},
     "inputWidgets": {},
     "nuid": "27c8a2f7-c04e-4c82-ba4e-e2abdb55a063",
     "showTitle": false,
     "tableResultSettingsMap": {},
     "title": ""
    }
   },
   "source": [
    "# Databricks Notebook Basics\n",
    "\n",
    "Welcome to your first **Databricks Notebook**!\n",
    "\n",
    "This notebook introduces the **core features** we'll use every day:  \n",
    "- Writing Python, SQL, Markdown, and Shell code in the same notebook  \n",
    "- Using Databricks utilities (`dbutils`)  \n",
    "- Exploring the Databricks File System (DBFS)  \n",
    "- Running other notebooks  \n",
    "- Displaying results and using widgets"
   ]
  },
  {
   "cell_type": "markdown",
   "metadata": {
    "application/vnd.databricks.v1+cell": {
     "cellMetadata": {},
     "inputWidgets": {},
     "nuid": "4682efa0-4574-4964-8244-b01f97e83d90",
     "showTitle": false,
     "tableResultSettingsMap": {},
     "title": ""
    }
   },
   "source": [
    "## 1. Python Basics"
   ]
  },
  {
   "cell_type": "code",
   "execution_count": 0,
   "metadata": {
    "application/vnd.databricks.v1+cell": {
     "cellMetadata": {
      "byteLimit": 2048000,
      "implicitDf": true,
      "rowLimit": 10000
     },
     "inputWidgets": {},
     "nuid": "51da2623-c416-4bdb-9392-aa0fdc97ccce",
     "showTitle": false,
     "tableResultSettingsMap": {},
     "title": ""
    }
   },
   "outputs": [],
   "source": [
    "print(\"Hello, Databricks World! 👋\")\n",
    "\n",
    "# Variables and simple arithmetic\n",
    "a = 10\n",
    "b = 20\n",
    "sum_ab = a + b\n",
    "print(f\"The sum of {a} and {b} is {sum_ab}\")\n",
    "\n",
    "# Working with lists\n",
    "numbers = [1, 2, 3, 4, 5]\n",
    "squared = [n**2 for n in numbers]\n",
    "print(\"Squared numbers:\", squared)"
   ]
  },
  {
   "cell_type": "markdown",
   "metadata": {
    "application/vnd.databricks.v1+cell": {
     "cellMetadata": {},
     "inputWidgets": {},
     "nuid": "df9572d8-34f1-4b5b-99ca-14f8af890ad3",
     "showTitle": false,
     "tableResultSettingsMap": {},
     "title": ""
    }
   },
   "source": [
    "## 2. SQL Basics (with %sql magic command)\n"
   ]
  },
  {
   "cell_type": "code",
   "execution_count": 0,
   "metadata": {
    "application/vnd.databricks.v1+cell": {
     "cellMetadata": {
      "byteLimit": 2048000,
      "implicitDf": true,
      "rowLimit": 10000
     },
     "inputWidgets": {},
     "nuid": "e4a95d04-361e-4f87-9f35-15275a84edcf",
     "showTitle": false,
     "tableResultSettingsMap": {},
     "title": ""
    }
   },
   "outputs": [],
   "source": [
    "%sql\n",
    "SELECT 1 AS id, 'Hello from SQL!' AS message"
   ]
  },
  {
   "cell_type": "markdown",
   "metadata": {
    "application/vnd.databricks.v1+cell": {
     "cellMetadata": {},
     "inputWidgets": {},
     "nuid": "d9b3fb36-4cdd-4869-bb43-20934f615bfd",
     "showTitle": false,
     "tableResultSettingsMap": {},
     "title": ""
    }
   },
   "source": [
    "## 3. Markdown Cells\n",
    "\n",
    "#### Documenting with Markdown\n",
    "\n",
    "You can format your notebook with **Markdown**:\n",
    "- Create *headings*\n",
    "- Add **bold** and *italic* text\n",
    "- Insert lists:\n",
    "  - Bullet 1\n",
    "  - Bullet 2\n",
    "- Add tables:\n",
    "\n",
    "| Name  | Age |\n",
    "|-------|-----|\n",
    "| John  | 25  |\n",
    "| Maria | 30  |\n",
    "\n",
    "Use Markdown to explain your code and results!\n"
   ]
  },
  {
   "cell_type": "markdown",
   "metadata": {
    "application/vnd.databricks.v1+cell": {
     "cellMetadata": {},
     "inputWidgets": {},
     "nuid": "0a7bc0fc-fe72-476d-b544-2def8d59c140",
     "showTitle": false,
     "tableResultSettingsMap": {},
     "title": ""
    }
   },
   "source": [
    "## 4. Run another notebook"
   ]
  },
  {
   "cell_type": "code",
   "execution_count": 0,
   "metadata": {
    "application/vnd.databricks.v1+cell": {
     "cellMetadata": {
      "byteLimit": 2048000,
      "rowLimit": 10000
     },
     "inputWidgets": {},
     "nuid": "0c880981-48c0-4e8d-839a-e343829b79c8",
     "showTitle": false,
     "tableResultSettingsMap": {},
     "title": ""
    }
   },
   "outputs": [],
   "source": [
    "%run ./test"
   ]
  },
  {
   "cell_type": "code",
   "execution_count": 0,
   "metadata": {
    "application/vnd.databricks.v1+cell": {
     "cellMetadata": {
      "byteLimit": 2048000,
      "rowLimit": 10000
     },
     "inputWidgets": {},
     "nuid": "4b205130-952e-40b6-9903-b99a2d407416",
     "showTitle": false,
     "tableResultSettingsMap": {},
     "title": ""
    }
   },
   "outputs": [],
   "source": [
    "try:\n",
    "    print(\"Full name from other notebook:\", full_name)\n",
    "except NameError:\n",
    "    print(\"Variable 'full_name' not found. Make sure the notebook defines it.\")"
   ]
  },
  {
   "cell_type": "markdown",
   "metadata": {
    "application/vnd.databricks.v1+cell": {
     "cellMetadata": {},
     "inputWidgets": {},
     "nuid": "76ee9cea-aa40-4138-a30d-9837b5952df8",
     "showTitle": false,
     "tableResultSettingsMap": {},
     "title": ""
    }
   },
   "source": [
    "## 5. Databricks File System (DBFS)"
   ]
  },
  {
   "cell_type": "code",
   "execution_count": 0,
   "metadata": {
    "application/vnd.databricks.v1+cell": {
     "cellMetadata": {
      "byteLimit": 2048000,
      "rowLimit": 10000
     },
     "inputWidgets": {},
     "nuid": "b67d4fb9-bfd4-4a31-99b1-dbd7aabeca40",
     "showTitle": false,
     "tableResultSettingsMap": {},
     "title": ""
    }
   },
   "outputs": [],
   "source": [
    "# List files in a directory (Python API)\n",
    "files = dbutils.fs.ls(\"/databricks-datasets/\")\n",
    "print(\"First few files in /databricks-datasets/:\")\n",
    "for f in files[:5]:\n",
    "    print(f)"
   ]
  },
  {
   "cell_type": "code",
   "execution_count": 0,
   "metadata": {
    "application/vnd.databricks.v1+cell": {
     "cellMetadata": {
      "byteLimit": 2048000,
      "rowLimit": 10000
     },
     "inputWidgets": {},
     "nuid": "7df07c4c-51fa-4a48-89aa-b961f56cff42",
     "showTitle": false,
     "tableResultSettingsMap": {},
     "title": ""
    }
   },
   "outputs": [],
   "source": [
    "\n",
    "# Display in a nice table format\n",
    "display(files)"
   ]
  },
  {
   "cell_type": "code",
   "execution_count": 0,
   "metadata": {
    "application/vnd.databricks.v1+cell": {
     "cellMetadata": {
      "byteLimit": 2048000,
      "rowLimit": 10000
     },
     "inputWidgets": {},
     "nuid": "1508faa9-9eb6-414a-982d-a6a8cf488dc0",
     "showTitle": false,
     "tableResultSettingsMap": {},
     "title": ""
    }
   },
   "outputs": [],
   "source": [
    "# Create a directory in DBFS\n",
    "dbutils.fs.mkdirs(\"/tmp/my_folder\")"
   ]
  },
  {
   "cell_type": "code",
   "execution_count": 0,
   "metadata": {
    "application/vnd.databricks.v1+cell": {
     "cellMetadata": {
      "byteLimit": 2048000,
      "rowLimit": 10000
     },
     "inputWidgets": {},
     "nuid": "ee832236-4acc-4a4b-9a4a-95a84598bc16",
     "showTitle": false,
     "tableResultSettingsMap": {},
     "title": ""
    }
   },
   "outputs": [],
   "source": [
    "# Write a file\n",
    "dbutils.fs.put(\"/tmp/my_folder/hello.txt\", \"Hello DBFS!\", overwrite=True)"
   ]
  },
  {
   "cell_type": "code",
   "execution_count": 0,
   "metadata": {
    "application/vnd.databricks.v1+cell": {
     "cellMetadata": {
      "byteLimit": 2048000,
      "rowLimit": 10000
     },
     "inputWidgets": {},
     "nuid": "47958537-2a5d-46d7-a40f-d67543bf9f62",
     "showTitle": false,
     "tableResultSettingsMap": {},
     "title": ""
    }
   },
   "outputs": [],
   "source": [
    "# Read the file\n",
    "print(dbutils.fs.head(\"/tmp/my_folder/hello.txt\"))"
   ]
  },
  {
   "cell_type": "markdown",
   "metadata": {
    "application/vnd.databricks.v1+cell": {
     "cellMetadata": {},
     "inputWidgets": {},
     "nuid": "25e634f8-c36a-4599-b354-59710a7ee7c1",
     "showTitle": false,
     "tableResultSettingsMap": {},
     "title": ""
    }
   },
   "source": [
    "## 6. Databricks Utilities (dbutils)"
   ]
  },
  {
   "cell_type": "code",
   "execution_count": 0,
   "metadata": {
    "application/vnd.databricks.v1+cell": {
     "cellMetadata": {
      "byteLimit": 2048000,
      "rowLimit": 10000
     },
     "inputWidgets": {},
     "nuid": "2fb7bc97-d95d-4ac1-8944-f2b72b04ee79",
     "showTitle": false,
     "tableResultSettingsMap": {},
     "title": ""
    }
   },
   "outputs": [],
   "source": [
    "dbutils.help()"
   ]
  },
  {
   "cell_type": "code",
   "execution_count": 0,
   "metadata": {
    "application/vnd.databricks.v1+cell": {
     "cellMetadata": {
      "byteLimit": 2048000,
      "rowLimit": 10000
     },
     "inputWidgets": {},
     "nuid": "65498808-cfc4-4d7f-b44b-b8437c16f3c0",
     "showTitle": false,
     "tableResultSettingsMap": {},
     "title": ""
    }
   },
   "outputs": [],
   "source": [
    "# File system\n",
    "dbutils.fs.help()"
   ]
  },
  {
   "cell_type": "code",
   "execution_count": 0,
   "metadata": {
    "application/vnd.databricks.v1+cell": {
     "cellMetadata": {
      "byteLimit": 2048000,
      "rowLimit": 10000
     },
     "inputWidgets": {},
     "nuid": "f3f662ef-84c8-4593-a815-79641e3c9241",
     "showTitle": false,
     "tableResultSettingsMap": {},
     "title": ""
    }
   },
   "outputs": [],
   "source": [
    "# Widgets (interactive input)\n",
    "dbutils.widgets.help()"
   ]
  },
  {
   "cell_type": "code",
   "execution_count": 0,
   "metadata": {
    "application/vnd.databricks.v1+cell": {
     "cellMetadata": {
      "byteLimit": 2048000,
      "rowLimit": 10000
     },
     "inputWidgets": {},
     "nuid": "66a06faa-8ce6-4bb9-a2fb-dce4fb221bb9",
     "showTitle": false,
     "tableResultSettingsMap": {},
     "title": ""
    }
   },
   "outputs": [],
   "source": [
    "# Secrets (if configured in your workspace)\n",
    "dbutils.secrets.help()"
   ]
  },
  {
   "cell_type": "markdown",
   "metadata": {
    "application/vnd.databricks.v1+cell": {
     "cellMetadata": {},
     "inputWidgets": {},
     "nuid": "c1fd64b4-e083-47ba-bf0e-f3ab8bc327ab",
     "showTitle": false,
     "tableResultSettingsMap": {},
     "title": ""
    }
   },
   "source": [
    "## 7. Widgets (user input)"
   ]
  },
  {
   "cell_type": "code",
   "execution_count": 0,
   "metadata": {
    "application/vnd.databricks.v1+cell": {
     "cellMetadata": {
      "byteLimit": 2048000,
      "rowLimit": 10000
     },
     "inputWidgets": {},
     "nuid": "34bfc91f-d7c9-4f6a-a76e-e5caaf4e2fbf",
     "showTitle": false,
     "tableResultSettingsMap": {},
     "title": ""
    }
   },
   "outputs": [],
   "source": [
    "# Create a dropdown widget\n",
    "dbutils.widgets.dropdown(\"color\", \"red\", [\"red\", \"green\", \"blue\"], \"Pick a color\")"
   ]
  },
  {
   "cell_type": "code",
   "execution_count": 0,
   "metadata": {
    "application/vnd.databricks.v1+cell": {
     "cellMetadata": {
      "byteLimit": 2048000,
      "rowLimit": 10000
     },
     "inputWidgets": {},
     "nuid": "e2cfb5e9-7dc5-42d6-9fab-e7371178a915",
     "showTitle": false,
     "tableResultSettingsMap": {},
     "title": ""
    }
   },
   "outputs": [],
   "source": [
    "# Read the widget value\n",
    "selected_color = dbutils.widgets.get(\"color\")\n",
    "print(f\"You selected: {selected_color}\")"
   ]
  },
  {
   "cell_type": "markdown",
   "metadata": {
    "application/vnd.databricks.v1+cell": {
     "cellMetadata": {},
     "inputWidgets": {},
     "nuid": "3ec5987b-ef05-4d6c-a857-8b3c8eee2a04",
     "showTitle": false,
     "tableResultSettingsMap": {},
     "title": ""
    }
   },
   "source": [
    "## 8. Display functions"
   ]
  },
  {
   "cell_type": "code",
   "execution_count": 0,
   "metadata": {
    "application/vnd.databricks.v1+cell": {
     "cellMetadata": {
      "byteLimit": 2048000,
      "rowLimit": 10000
     },
     "inputWidgets": {},
     "nuid": "1975e930-3306-42af-906b-54cc33aef3e4",
     "showTitle": false,
     "tableResultSettingsMap": {},
     "title": ""
    }
   },
   "outputs": [],
   "source": [
    "import pandas as pd\n",
    "\n",
    "# Create a Pandas DataFrame\n",
    "df = pd.DataFrame({\n",
    "    \"name\": [\"Alice\", \"Bob\", \"Charlie\"],\n",
    "    \"age\": [25, 30, 35],\n",
    "    \"city\": [\"New York\", \"London\", \"Paris\"]\n",
    "})\n",
    "\n",
    "# Display as an interactive table\n",
    "display(df)"
   ]
  },
  {
   "cell_type": "markdown",
   "metadata": {
    "application/vnd.databricks.v1+cell": {
     "cellMetadata": {},
     "inputWidgets": {},
     "nuid": "23f4d4bd-c703-42a0-92cf-08d4017afe6b",
     "showTitle": false,
     "tableResultSettingsMap": {},
     "title": ""
    }
   },
   "source": [
    "## 9. Shell Commands (%sh)"
   ]
  },
  {
   "cell_type": "code",
   "execution_count": 0,
   "metadata": {
    "application/vnd.databricks.v1+cell": {
     "cellMetadata": {
      "byteLimit": 2048000,
      "rowLimit": 10000
     },
     "inputWidgets": {},
     "nuid": "81a4c91b-4ee8-4ebe-905e-e64ebd98ab44",
     "showTitle": false,
     "tableResultSettingsMap": {},
     "title": ""
    }
   },
   "outputs": [],
   "source": [
    "%sh\n",
    "echo \"This is running in a Linux shell inside Databricks\"\n",
    "whoami\n",
    "ls -lh /databricks/driver/"
   ]
  },
  {
   "cell_type": "markdown",
   "metadata": {
    "application/vnd.databricks.v1+cell": {
     "cellMetadata": {},
     "inputWidgets": {},
     "nuid": "a182510d-e912-42c9-8a23-38f7ea0b8b5e",
     "showTitle": false,
     "tableResultSettingsMap": {},
     "title": ""
    }
   },
   "source": [
    "## 10. Summary\n",
    "\n",
    "Congrats! You now know the basics of Databricks notebooks.\n",
    "\n",
    "We covered:\n",
    "- Python, SQL, Markdown, Shell cells\n",
    "- Using `%run` to include another notebook\n",
    "- DBFS operations (`%fs`, `dbutils.fs`)\n",
    "- Utilities with `dbutils`\n",
    "- Widgets for interactivity\n",
    "- Displaying data nicely\n",
    "\n",
    "Next steps:\n",
    "- Explore Spark APIs (`spark.read`, `spark.sql`)\n",
    "- Try creating your own datasets and visualizations\n",
    "- Build workflows with Jobs & Workflows in Databricks\n",
    "\n",
    "You’re ready to start building on Databricks!"
   ]
  },
  {
   "cell_type": "markdown",
   "metadata": {
    "application/vnd.databricks.v1+cell": {
     "cellMetadata": {},
     "inputWidgets": {},
     "nuid": "421c31cc-e64f-444a-9f39-871c2764a35b",
     "showTitle": false,
     "tableResultSettingsMap": {},
     "title": ""
    }
   },
   "source": []
  }
 ],
 "metadata": {
  "application/vnd.databricks.v1+notebook": {
   "computePreferences": null,
   "dashboards": [],
   "environmentMetadata": {
    "base_environment": "",
    "environment_version": "3"
   },
   "inputWidgetPreferences": null,
   "language": "python",
   "notebookMetadata": {
    "mostRecentlyExecutedCommandWithImplicitDF": {
     "commandId": 6625041243803702,
     "dataframes": [
      "_sqldf"
     ]
    },
    "pythonIndentUnit": 4
   },
   "notebookName": "1. Notebook Basics",
   "widgets": {
    "color": {
     "currentValue": "green",
     "nuid": "e6d1e2b3-8fb4-4f41-823d-ad39f7f89807",
     "typedWidgetInfo": {
      "autoCreated": false,
      "defaultValue": "red",
      "label": "Pick a color",
      "name": "color",
      "options": {
       "widgetDisplayType": "Dropdown",
       "choices": [
        "red",
        "green",
        "blue"
       ],
       "fixedDomain": true,
       "multiselect": false
      },
      "parameterDataType": "String"
     },
     "widgetInfo": {
      "widgetType": "dropdown",
      "defaultValue": "red",
      "label": "Pick a color",
      "name": "color",
      "options": {
       "widgetType": "dropdown",
       "autoCreated": false,
       "choices": [
        "red",
        "green",
        "blue"
       ]
      }
     }
    }
   }
  },
  "language_info": {
   "name": "python"
  }
 },
 "nbformat": 4,
 "nbformat_minor": 0
}
