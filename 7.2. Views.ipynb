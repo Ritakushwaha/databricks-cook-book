{
 "cells": [
  {
   "cell_type": "code",
   "execution_count": 0,
   "metadata": {
    "application/vnd.databricks.v1+cell": {
     "cellMetadata": {
      "byteLimit": 2048000,
      "rowLimit": 10000
     },
     "inputWidgets": {},
     "nuid": "80196fc8-b079-4b10-abd8-29f5c3d1dfe0",
     "showTitle": false,
     "tableResultSettingsMap": {},
     "title": ""
    }
   },
   "outputs": [],
   "source": [
    "USE CATALOG hive_metastore;"
   ]
  },
  {
   "cell_type": "code",
   "execution_count": 0,
   "metadata": {
    "application/vnd.databricks.v1+cell": {
     "cellMetadata": {
      "byteLimit": 2048000,
      "rowLimit": 10000
     },
     "inputWidgets": {},
     "nuid": "f17af9e8-810c-431d-904a-01c7914a7b8e",
     "showTitle": false,
     "tableResultSettingsMap": {},
     "title": ""
    }
   },
   "outputs": [],
   "source": [
    "SHOW TABLES; -- Temp View doesn't exists in this session as it is not registered in the metastore"
   ]
  },
  {
   "cell_type": "code",
   "execution_count": 0,
   "metadata": {
    "application/vnd.databricks.v1+cell": {
     "cellMetadata": {
      "byteLimit": 2048000,
      "rowLimit": 10000
     },
     "inputWidgets": {},
     "nuid": "7d491014-bc29-43bb-825f-593f6584d36b",
     "showTitle": false,
     "tableResultSettingsMap": {},
     "title": ""
    }
   },
   "outputs": [],
   "source": [
    "SHOW TABLES in global_temp; -- global temp view exists, if restart this will have no views"
   ]
  },
  {
   "cell_type": "code",
   "execution_count": 0,
   "metadata": {
    "application/vnd.databricks.v1+cell": {
     "cellMetadata": {
      "byteLimit": 2048000,
      "rowLimit": 10000
     },
     "inputWidgets": {},
     "nuid": "9bbea812-bfff-42b8-ab80-8a61e96e614c",
     "showTitle": false,
     "tableResultSettingsMap": {},
     "title": ""
    }
   },
   "outputs": [],
   "source": [
    "%python\n",
    "# --- CLEANUP TABLES + VIEWS IN hive_metastore.default ---\n",
    "spark.sql(\"USE hive_metastore.default\")\n",
    "\n",
    "tables = spark.sql(\"SHOW TABLES IN hive_metastore.default\").collect()\n",
    "\n",
    "for row in tables:\n",
    "    name = row[\"tableName\"]\n",
    "    is_temp = row[\"isTemporary\"]\n",
    "\n",
    "    if is_temp:\n",
    "        # Drop view if exists (handles cases like top_customers)\n",
    "        spark.sql(f\"DROP VIEW IF EXISTS hive_metastore.default.{name}\")\n",
    "    # Drop table if exists\n",
    "    try:\n",
    "        spark.sql(f\"DROP TABLE IF EXISTS hive_metastore.default.{name}\")\n",
    "    except:\n",
    "        spark.sql(f\"DROP VIEW IF EXISTS hive_metastore.default.{name}\")\n",
    "    \n",
    "print(\"Dropped all tables and views in hive_metastore.default\")\n",
    "\n",
    "\n",
    "# --- CLEANUP GLOBAL VIEWS (from global_temp) ---\n",
    "global_views = spark.sql(\"SHOW TABLES IN global_temp\").collect()\n",
    "\n",
    "for row in global_views:\n",
    "    name = row[\"tableName\"]\n",
    "\n",
    "    spark.sql(f\"DROP VIEW IF EXISTS global_temp.{name}\")\n",
    "\n",
    "print(\"Dropped all global views in global_temp\")"
   ]
  }
 ],
 "metadata": {
  "application/vnd.databricks.v1+notebook": {
   "computePreferences": null,
   "dashboards": [],
   "environmentMetadata": {
    "base_environment": "",
    "environment_version": "3"
   },
   "inputWidgetPreferences": null,
   "language": "sql",
   "notebookMetadata": {
    "pythonIndentUnit": 4
   },
   "notebookName": "7.2. Views",
   "widgets": {}
  },
  "language_info": {
   "name": "sql"
  }
 },
 "nbformat": 4,
 "nbformat_minor": 0
}
