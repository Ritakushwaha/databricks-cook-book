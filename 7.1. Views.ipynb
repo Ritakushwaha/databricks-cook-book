{
 "cells": [
  {
   "cell_type": "markdown",
   "metadata": {
    "application/vnd.databricks.v1+cell": {
     "cellMetadata": {},
     "inputWidgets": {},
     "nuid": "94e6063a-0ab0-42b6-bb6b-13cdc193062e",
     "showTitle": false,
     "tableResultSettingsMap": {},
     "title": ""
    }
   },
   "source": [
    "## 4. Views in Databricks\n",
    "\n",
    "A **view** = a *saved SQL query* that can be reused like a table.  \n",
    "Views do not store data themselves; they are **logical query definitions** on top of tables.  \n",
    "\n",
    "Databricks provides 3 types of views with different lifecycles and scopes.\n",
    "\n",
    "---\n",
    "\n",
    "### Types of Views\n",
    "\n",
    "#### 1. Stored Views (persistent objects)  \n",
    "- Saved in metastore like a table.  \n",
    "- Survive cluster restarts.  \n",
    "\n",
    "---\n",
    "\n",
    "#### 2. Temporary Views (session-scoped)  \n",
    "- Exist only during Spark session.  \n",
    "- Deleted when session ends.  \n",
    "\n",
    "| Action                         | SparkSession Behavior                                            |\n",
    "| ------------------------------ | ---------------------------------------------------------------- |\n",
    "| Open new notebook (no cluster) | No SparkSession                                                |\n",
    "| Attach notebook to cluster     | SparkSession created (global `spark`)                          |\n",
    "| Detach notebook                | Notebook loses access to `spark` (cluster keeps session alive) |\n",
    "| Reattach notebook              | Notebook gets SparkSession from cluster                        |\n",
    "| Restart cluster                | New SparkSession created (old one lost)                       |\n",
    "| Job run                        | New SparkSession per job execution                            |\n",
    "\n",
    "---\n",
    "\n",
    "#### 3. Global Temporary Views (cluster-scoped)  \n",
    "- Stored in a special schema **`global_temp`**.  \n",
    "- Accessible across sessions within the same cluster.  "
   ]
  },
  {
   "cell_type": "code",
   "execution_count": 0,
   "metadata": {
    "application/vnd.databricks.v1+cell": {
     "cellMetadata": {
      "byteLimit": 2048000,
      "rowLimit": 10000
     },
     "inputWidgets": {},
     "nuid": "954e7223-3907-4d8e-95ff-3b10decbbb65",
     "showTitle": false,
     "tableResultSettingsMap": {},
     "title": ""
    }
   },
   "outputs": [],
   "source": [
    "USE CATALOG hive_metastore;"
   ]
  },
  {
   "cell_type": "code",
   "execution_count": 0,
   "metadata": {
    "application/vnd.databricks.v1+cell": {
     "cellMetadata": {
      "byteLimit": 2048000,
      "rowLimit": 10000
     },
     "inputWidgets": {},
     "nuid": "c26305d7-897b-495a-98be-9407257146c7",
     "showTitle": false,
     "tableResultSettingsMap": {},
     "title": ""
    }
   },
   "outputs": [],
   "source": [
    "SHOW TABLES;"
   ]
  },
  {
   "cell_type": "code",
   "execution_count": 0,
   "metadata": {
    "application/vnd.databricks.v1+cell": {
     "cellMetadata": {
      "byteLimit": 2048000,
      "rowLimit": 10000
     },
     "inputWidgets": {},
     "nuid": "63946073-4bb8-48d7-8718-6f628c7717a3",
     "showTitle": false,
     "tableResultSettingsMap": {},
     "title": ""
    }
   },
   "outputs": [],
   "source": [
    "-- 1. Stored View\n",
    "CREATE OR REPLACE VIEW top_customers AS\n",
    "SELECT id, SUM(salary) AS total_salary\n",
    "FROM customers\n",
    "GROUP BY id\n",
    "ORDER BY total_salary DESC limit 5;\n",
    "\n",
    "-- Query view\n",
    "SELECT * FROM top_customers"
   ]
  },
  {
   "cell_type": "code",
   "execution_count": 0,
   "metadata": {
    "application/vnd.databricks.v1+cell": {
     "cellMetadata": {
      "byteLimit": 2048000,
      "rowLimit": 10000
     },
     "inputWidgets": {},
     "nuid": "e447f759-79a3-46b9-bfa4-1d515682122a",
     "showTitle": false,
     "tableResultSettingsMap": {},
     "title": ""
    }
   },
   "outputs": [],
   "source": [
    "SHOW TABLES;"
   ]
  },
  {
   "cell_type": "code",
   "execution_count": 0,
   "metadata": {
    "application/vnd.databricks.v1+cell": {
     "cellMetadata": {
      "byteLimit": 2048000,
      "rowLimit": 10000
     },
     "inputWidgets": {},
     "nuid": "7abb253b-06d4-4e31-80c6-2a6a3045e01c",
     "showTitle": false,
     "tableResultSettingsMap": {},
     "title": ""
    }
   },
   "outputs": [],
   "source": [
    "-- 2. Temporary View\n",
    "CREATE OR REPLACE TEMP VIEW temp_sales AS\n",
    "SELECT * FROM sales_ctas WHERE region = 'US';\n",
    "\n",
    "-- Query temp view (only in this session)\n",
    "SELECT * FROM temp_sales;"
   ]
  },
  {
   "cell_type": "code",
   "execution_count": 0,
   "metadata": {
    "application/vnd.databricks.v1+cell": {
     "cellMetadata": {
      "byteLimit": 2048000,
      "rowLimit": 10000
     },
     "inputWidgets": {},
     "nuid": "c0e5c4c7-de16-455e-8b30-50a5c770eca6",
     "showTitle": false,
     "tableResultSettingsMap": {},
     "title": ""
    }
   },
   "outputs": [],
   "source": [
    "SHOW TABLES;"
   ]
  },
  {
   "cell_type": "code",
   "execution_count": 0,
   "metadata": {
    "application/vnd.databricks.v1+cell": {
     "cellMetadata": {
      "byteLimit": 2048000,
      "rowLimit": 10000
     },
     "inputWidgets": {},
     "nuid": "c1af5621-b6b0-480b-ac96-b8822976f7c3",
     "showTitle": false,
     "tableResultSettingsMap": {},
     "title": ""
    }
   },
   "outputs": [],
   "source": [
    "-- 3. Global Temporary View\n",
    "CREATE OR REPLACE GLOBAL TEMP VIEW top_cust AS\n",
    "SELECT * FROM customers WHERE salary > 70000;\n",
    "\n",
    "-- Query global temp view (must prefix with schema)\n",
    "SELECT * FROM global_temp.top_cust;"
   ]
  },
  {
   "cell_type": "code",
   "execution_count": 0,
   "metadata": {
    "application/vnd.databricks.v1+cell": {
     "cellMetadata": {
      "byteLimit": 2048000,
      "rowLimit": 10000
     },
     "inputWidgets": {},
     "nuid": "c208101a-88cf-4576-a0ea-383ea3b1d1bc",
     "showTitle": false,
     "tableResultSettingsMap": {},
     "title": ""
    }
   },
   "outputs": [],
   "source": [
    "SHOW TABLES;"
   ]
  },
  {
   "cell_type": "code",
   "execution_count": 0,
   "metadata": {
    "application/vnd.databricks.v1+cell": {
     "cellMetadata": {
      "byteLimit": 2048000,
      "rowLimit": 10000
     },
     "inputWidgets": {},
     "nuid": "97aa333f-a1e3-4928-aec2-8b80d0797994",
     "showTitle": false,
     "tableResultSettingsMap": {},
     "title": ""
    }
   },
   "outputs": [],
   "source": [
    "SHOW TABLES IN global_temp;"
   ]
  },
  {
   "cell_type": "markdown",
   "metadata": {
    "application/vnd.databricks.v1+cell": {
     "cellMetadata": {},
     "inputWidgets": {},
     "nuid": "927394d0-88a1-4338-aebf-65572259700d",
     "showTitle": false,
     "tableResultSettingsMap": {},
     "title": ""
    }
   },
   "source": [
    "### Comparison\n",
    "\n",
    "| Feature                | Stored View | Temp View | Global Temp View |\n",
    "|-------------------------|-------------|-----------|------------------|\n",
    "| **Scope**               | Permanent   | Session   | Cluster          |\n",
    "| **Persistence**         | Metastore   | Memory    | `global_temp` DB |\n",
    "| **Survives Restart?**   | Yes       | No      | No (until cluster restarts) |\n",
    "Visible in SHOW TABLES? | Yes (in schema) | No | Yes (in global_temp)\n"
   ]
  },
  {
   "cell_type": "markdown",
   "metadata": {
    "application/vnd.databricks.v1+cell": {
     "cellMetadata": {},
     "inputWidgets": {},
     "nuid": "dfd4cd97-6f47-402f-93a4-657a11fa2779",
     "showTitle": false,
     "tableResultSettingsMap": {},
     "title": ""
    }
   },
   "source": [
    "- **Views** provide flexible query abstraction:\n",
    "  - Stored → permanent in metastore.  \n",
    "  - Temp → session-only.  \n",
    "  - Global temp → cluster-scoped."
   ]
  }
 ],
 "metadata": {
  "application/vnd.databricks.v1+notebook": {
   "computePreferences": null,
   "dashboards": [],
   "environmentMetadata": {
    "base_environment": "",
    "environment_version": "3"
   },
   "inputWidgetPreferences": null,
   "language": "sql",
   "notebookMetadata": {
    "pythonIndentUnit": 4
   },
   "notebookName": "7.1. Views",
   "widgets": {}
  },
  "language_info": {
   "name": "sql"
  }
 },
 "nbformat": 4,
 "nbformat_minor": 0
}
